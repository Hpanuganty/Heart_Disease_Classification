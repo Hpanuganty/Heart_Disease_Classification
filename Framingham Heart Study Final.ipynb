{
 "cells": [
  {
   "cell_type": "markdown",
   "metadata": {},
   "source": [
    "# Framingham Heart Study: Predicting onset of CHD"
   ]
  },
  {
   "cell_type": "markdown",
   "metadata": {},
   "source": [
    "## Introduction\n",
    "According to the World Health Organization (WHO), an estimated 12 million deaths occur as a result of heart and cardiovascular disease. Early detection of heart disease can be informative in making lifestyle and eating changes in high risk patients, therefore reducing risk of disease and future complications. \n",
    "\n",
    "The dataset is open source and publicly available [here](https://www.kaggle.com/amanajmera1/framingham-heart-study-dataset) and is from an ongoing cardiovascular study on folks from Framingham, Massachussetts. The goal of this project aims to determine the most relevant risk factors of heart disease as well as predict overall risk of being diagnosed with CHD (coronary heart disease) using 15 attributes (demographic, behavioral and medical). "
   ]
  },
  {
   "cell_type": "markdown",
   "metadata": {},
   "source": [
    "### Importing Libraries"
   ]
  },
  {
   "cell_type": "code",
   "execution_count": 236,
   "metadata": {
    "scrolled": true
   },
   "outputs": [],
   "source": [
    "#Data loading and visualization \n",
    "import numpy as np \n",
    "import pandas as pd\n",
    "import matplotlib.pyplot as plt\n",
    "import seaborn as sns\n",
    "\n",
    "#Feature selection \n",
    "from sklearn.feature_selection import SelectKBest, chi2\n",
    "from sklearn.feature_selection import mutual_info_classif\n",
    "\n",
    "#Data scaling \n",
    "from sklearn.preprocessing import MinMaxScaler\n",
    "\n",
    "#Data balancing \n",
    "from imblearn.over_sampling import SMOTE\n",
    "\n",
    "#Data splitting\n",
    "from sklearn.model_selection import train_test_split\n",
    "\n",
    "#Data modeling \n",
    "from sklearn.linear_model import LogisticRegression\n",
    "from sklearn.ensemble import RandomForestClassifier\n",
    "from sklearn.neighbors import KNeighborsClassifier \n",
    "from sklearn.svm import SVC\n",
    "\n",
    "#Model hypertuning\n",
    "from sklearn.model_selection import RandomizedSearchCV\n",
    "\n",
    "#Data model results\n",
    "from sklearn.metrics import roc_auc_score, confusion_matrix, accuracy_score, roc_curve, classification_report"
   ]
  },
  {
   "cell_type": "markdown",
   "metadata": {},
   "source": [
    "### Reading Dataset"
   ]
  },
  {
   "cell_type": "code",
   "execution_count": 237,
   "metadata": {
    "scrolled": true
   },
   "outputs": [
    {
     "data": {
      "text/html": [
       "<div>\n",
       "<style scoped>\n",
       "    .dataframe tbody tr th:only-of-type {\n",
       "        vertical-align: middle;\n",
       "    }\n",
       "\n",
       "    .dataframe tbody tr th {\n",
       "        vertical-align: top;\n",
       "    }\n",
       "\n",
       "    .dataframe thead th {\n",
       "        text-align: right;\n",
       "    }\n",
       "</style>\n",
       "<table border=\"1\" class=\"dataframe\">\n",
       "  <thead>\n",
       "    <tr style=\"text-align: right;\">\n",
       "      <th></th>\n",
       "      <th>male</th>\n",
       "      <th>age</th>\n",
       "      <th>education</th>\n",
       "      <th>currentSmoker</th>\n",
       "      <th>cigsPerDay</th>\n",
       "      <th>BPMeds</th>\n",
       "      <th>prevalentStroke</th>\n",
       "      <th>prevalentHyp</th>\n",
       "      <th>diabetes</th>\n",
       "      <th>totChol</th>\n",
       "      <th>sysBP</th>\n",
       "      <th>diaBP</th>\n",
       "      <th>BMI</th>\n",
       "      <th>heartRate</th>\n",
       "      <th>glucose</th>\n",
       "      <th>TenYearCHD</th>\n",
       "    </tr>\n",
       "  </thead>\n",
       "  <tbody>\n",
       "    <tr>\n",
       "      <th>0</th>\n",
       "      <td>1</td>\n",
       "      <td>39</td>\n",
       "      <td>4.0</td>\n",
       "      <td>0</td>\n",
       "      <td>0.0</td>\n",
       "      <td>0.0</td>\n",
       "      <td>0</td>\n",
       "      <td>0</td>\n",
       "      <td>0</td>\n",
       "      <td>195.0</td>\n",
       "      <td>106.0</td>\n",
       "      <td>70.0</td>\n",
       "      <td>26.97</td>\n",
       "      <td>80.0</td>\n",
       "      <td>77.0</td>\n",
       "      <td>0</td>\n",
       "    </tr>\n",
       "    <tr>\n",
       "      <th>1</th>\n",
       "      <td>0</td>\n",
       "      <td>46</td>\n",
       "      <td>2.0</td>\n",
       "      <td>0</td>\n",
       "      <td>0.0</td>\n",
       "      <td>0.0</td>\n",
       "      <td>0</td>\n",
       "      <td>0</td>\n",
       "      <td>0</td>\n",
       "      <td>250.0</td>\n",
       "      <td>121.0</td>\n",
       "      <td>81.0</td>\n",
       "      <td>28.73</td>\n",
       "      <td>95.0</td>\n",
       "      <td>76.0</td>\n",
       "      <td>0</td>\n",
       "    </tr>\n",
       "    <tr>\n",
       "      <th>2</th>\n",
       "      <td>1</td>\n",
       "      <td>48</td>\n",
       "      <td>1.0</td>\n",
       "      <td>1</td>\n",
       "      <td>20.0</td>\n",
       "      <td>0.0</td>\n",
       "      <td>0</td>\n",
       "      <td>0</td>\n",
       "      <td>0</td>\n",
       "      <td>245.0</td>\n",
       "      <td>127.5</td>\n",
       "      <td>80.0</td>\n",
       "      <td>25.34</td>\n",
       "      <td>75.0</td>\n",
       "      <td>70.0</td>\n",
       "      <td>0</td>\n",
       "    </tr>\n",
       "    <tr>\n",
       "      <th>3</th>\n",
       "      <td>0</td>\n",
       "      <td>61</td>\n",
       "      <td>3.0</td>\n",
       "      <td>1</td>\n",
       "      <td>30.0</td>\n",
       "      <td>0.0</td>\n",
       "      <td>0</td>\n",
       "      <td>1</td>\n",
       "      <td>0</td>\n",
       "      <td>225.0</td>\n",
       "      <td>150.0</td>\n",
       "      <td>95.0</td>\n",
       "      <td>28.58</td>\n",
       "      <td>65.0</td>\n",
       "      <td>103.0</td>\n",
       "      <td>1</td>\n",
       "    </tr>\n",
       "    <tr>\n",
       "      <th>4</th>\n",
       "      <td>0</td>\n",
       "      <td>46</td>\n",
       "      <td>3.0</td>\n",
       "      <td>1</td>\n",
       "      <td>23.0</td>\n",
       "      <td>0.0</td>\n",
       "      <td>0</td>\n",
       "      <td>0</td>\n",
       "      <td>0</td>\n",
       "      <td>285.0</td>\n",
       "      <td>130.0</td>\n",
       "      <td>84.0</td>\n",
       "      <td>23.10</td>\n",
       "      <td>85.0</td>\n",
       "      <td>85.0</td>\n",
       "      <td>0</td>\n",
       "    </tr>\n",
       "  </tbody>\n",
       "</table>\n",
       "</div>"
      ],
      "text/plain": [
       "   male  age  education  currentSmoker  cigsPerDay  BPMeds  prevalentStroke  \\\n",
       "0     1   39        4.0              0         0.0     0.0                0   \n",
       "1     0   46        2.0              0         0.0     0.0                0   \n",
       "2     1   48        1.0              1        20.0     0.0                0   \n",
       "3     0   61        3.0              1        30.0     0.0                0   \n",
       "4     0   46        3.0              1        23.0     0.0                0   \n",
       "\n",
       "   prevalentHyp  diabetes  totChol  sysBP  diaBP    BMI  heartRate  glucose  \\\n",
       "0             0         0    195.0  106.0   70.0  26.97       80.0     77.0   \n",
       "1             0         0    250.0  121.0   81.0  28.73       95.0     76.0   \n",
       "2             0         0    245.0  127.5   80.0  25.34       75.0     70.0   \n",
       "3             1         0    225.0  150.0   95.0  28.58       65.0    103.0   \n",
       "4             0         0    285.0  130.0   84.0  23.10       85.0     85.0   \n",
       "\n",
       "   TenYearCHD  \n",
       "0           0  \n",
       "1           0  \n",
       "2           0  \n",
       "3           1  \n",
       "4           0  "
      ]
     },
     "execution_count": 237,
     "metadata": {},
     "output_type": "execute_result"
    }
   ],
   "source": [
    "fhs = pd.read_csv('/Users/harikapanuganty/Desktop/framingham.csv')\n",
    "fhs.head()"
   ]
  },
  {
   "cell_type": "code",
   "execution_count": 238,
   "metadata": {},
   "outputs": [
    {
     "data": {
      "text/plain": [
       "(4240, 16)"
      ]
     },
     "execution_count": 238,
     "metadata": {},
     "output_type": "execute_result"
    }
   ],
   "source": [
    "fhs.shape"
   ]
  },
  {
   "cell_type": "code",
   "execution_count": 239,
   "metadata": {},
   "outputs": [
    {
     "name": "stdout",
     "output_type": "stream",
     "text": [
      "<class 'pandas.core.frame.DataFrame'>\n",
      "RangeIndex: 4240 entries, 0 to 4239\n",
      "Data columns (total 16 columns):\n",
      " #   Column           Non-Null Count  Dtype  \n",
      "---  ------           --------------  -----  \n",
      " 0   male             4240 non-null   int64  \n",
      " 1   age              4240 non-null   int64  \n",
      " 2   education        4135 non-null   float64\n",
      " 3   currentSmoker    4240 non-null   int64  \n",
      " 4   cigsPerDay       4211 non-null   float64\n",
      " 5   BPMeds           4187 non-null   float64\n",
      " 6   prevalentStroke  4240 non-null   int64  \n",
      " 7   prevalentHyp     4240 non-null   int64  \n",
      " 8   diabetes         4240 non-null   int64  \n",
      " 9   totChol          4190 non-null   float64\n",
      " 10  sysBP            4240 non-null   float64\n",
      " 11  diaBP            4240 non-null   float64\n",
      " 12  BMI              4221 non-null   float64\n",
      " 13  heartRate        4239 non-null   float64\n",
      " 14  glucose          3852 non-null   float64\n",
      " 15  TenYearCHD       4240 non-null   int64  \n",
      "dtypes: float64(9), int64(7)\n",
      "memory usage: 530.1 KB\n"
     ]
    }
   ],
   "source": [
    "fhs.info()"
   ]
  },
  {
   "cell_type": "markdown",
   "metadata": {},
   "source": [
    "### Variables\n",
    "#### Demographic:\n",
    "* **sex**: Male or Female (binary)\n",
    "    * Column name is male, 1 = male and 0 = female \n",
    "* **age**: Patient age (continuous though ages in this dataset are rounded to nearest whole number) \n",
    "* **education**: No information \n",
    "\n",
    "#### Behavioral: \n",
    "* **currentSmoker**: 1 = current smoker, 0 = not a current smoker (binary)\n",
    "* **cigsPerDay**: Number of cigarettes person smoked on average in one day (continuous i.e., half a cigarette)\n",
    "\n",
    "#### Medical History \n",
    "* **BPMeds**: 1 = patient was in BP medication, 0 = patient is not on any BP medication (binary)\n",
    "* **prevalentStroke**: 1 = patient has history of stroke, 0 = patient has no history of stroke (binary)\n",
    "* **prevalentHyp**: 1 = patient has history of hypertension, 0 = patient has no history of hypertension (binary) \n",
    "* **diabetes**: 1 = patient has history of diabetes, 0 = patient has no history of diabetes (binary)\n",
    "\n",
    "#### Current Medical \n",
    "* **totChol**: patient cholesterol level (continuous)\n",
    "* **sysBP**: patient systolic blood pressure (continuous)\n",
    "* **diaBP**: patient dyastolic blood pressure (continuous)\n",
    "* **BMI**: patient Body Mass Index (continuous)\n",
    "* **heartRate**: patient Heart Rate (continuous though heartRate in this dataset are rounded to nearest whole number) \n",
    "* **glucose**: patient glucose level (continuous)\n",
    "\n",
    "#### Target to predict: \n",
    "* **TenYearCHD**: 10 year-risk of developing coronary heart disease (CHD): 1 = yes, 0 = no (binary)"
   ]
  },
  {
   "cell_type": "markdown",
   "metadata": {},
   "source": [
    "### Data Cleaning"
   ]
  },
  {
   "cell_type": "code",
   "execution_count": 240,
   "metadata": {},
   "outputs": [
    {
     "data": {
      "text/plain": [
       "male                 0\n",
       "age                  0\n",
       "education          105\n",
       "currentSmoker        0\n",
       "cigsPerDay          29\n",
       "BPMeds              53\n",
       "prevalentStroke      0\n",
       "prevalentHyp         0\n",
       "diabetes             0\n",
       "totChol             50\n",
       "sysBP                0\n",
       "diaBP                0\n",
       "BMI                 19\n",
       "heartRate            1\n",
       "glucose            388\n",
       "TenYearCHD           0\n",
       "dtype: int64"
      ]
     },
     "execution_count": 240,
     "metadata": {},
     "output_type": "execute_result"
    }
   ],
   "source": [
    "fhs.isnull().sum()"
   ]
  },
  {
   "cell_type": "markdown",
   "metadata": {},
   "source": [
    "The output above indicates the number of null/missing values in each column of our dataset. \n",
    "- Education: 105 \n",
    "- cigsPerDay: 29\n",
    "- BPMeds: 53\n",
    "- totChol: 50\n",
    "- BMI: 19\n",
    "- heartRate: 1\n",
    "- glucose: 388\n",
    "\n",
    "Based on the column and number of missing values, we will handle missing values accordingly. \n",
    "- `heartRate` is missing only one value, so we will drop the missing row\n",
    "- `cigsPerDay`, `totChol` and `BPMeds` are missing a few dozen values so we will replace missing values with the column mean\n",
    "- choosing to interpolate missing values for `BMI` and `glucose`\n",
    "- Realistically, level of `education` does not seem to be relevant to developing heart disease so we will choose to remove all missing rows and evaluate status of the column at a later time"
   ]
  },
  {
   "cell_type": "code",
   "execution_count": 241,
   "metadata": {},
   "outputs": [],
   "source": [
    "fhs = fhs.dropna(subset = ['heartRate'])"
   ]
  },
  {
   "cell_type": "code",
   "execution_count": 242,
   "metadata": {},
   "outputs": [],
   "source": [
    "fhs['cigsPerDay'].fillna(int(fhs['cigsPerDay'].mean()), inplace=True)"
   ]
  },
  {
   "cell_type": "code",
   "execution_count": 243,
   "metadata": {},
   "outputs": [],
   "source": [
    "fhs['totChol'].fillna(int(fhs['totChol'].mean()), inplace=True)"
   ]
  },
  {
   "cell_type": "code",
   "execution_count": 244,
   "metadata": {},
   "outputs": [],
   "source": [
    "fhs['BPMeds'].fillna(int(fhs['BPMeds'].mean()), inplace=True)"
   ]
  },
  {
   "cell_type": "code",
   "execution_count": 245,
   "metadata": {},
   "outputs": [],
   "source": [
    "fhs['BMI'].interpolate(method='pad', direction = 'forward', inplace=True) #according to documentation, 'pad' fills in NaN's using existing values "
   ]
  },
  {
   "cell_type": "code",
   "execution_count": 246,
   "metadata": {},
   "outputs": [],
   "source": [
    "fhs['glucose'].interpolate(method='pad', direction = 'forward', inplace=True) #according to documentation, 'pad' fills in NaN's using existing values "
   ]
  },
  {
   "cell_type": "code",
   "execution_count": 247,
   "metadata": {},
   "outputs": [],
   "source": [
    "fhs.dropna(subset = ['education'], inplace=True)"
   ]
  },
  {
   "cell_type": "code",
   "execution_count": 248,
   "metadata": {},
   "outputs": [
    {
     "data": {
      "text/plain": [
       "male               0\n",
       "age                0\n",
       "education          0\n",
       "currentSmoker      0\n",
       "cigsPerDay         0\n",
       "BPMeds             0\n",
       "prevalentStroke    0\n",
       "prevalentHyp       0\n",
       "diabetes           0\n",
       "totChol            0\n",
       "sysBP              0\n",
       "diaBP              0\n",
       "BMI                0\n",
       "heartRate          0\n",
       "glucose            0\n",
       "TenYearCHD         0\n",
       "dtype: int64"
      ]
     },
     "execution_count": 248,
     "metadata": {},
     "output_type": "execute_result"
    }
   ],
   "source": [
    "fhs.isnull().sum()"
   ]
  },
  {
   "cell_type": "markdown",
   "metadata": {},
   "source": [
    "## Exploratory Data Analysis"
   ]
  },
  {
   "cell_type": "markdown",
   "metadata": {},
   "source": [
    "#### Boxplot\n",
    "Boxplots represent groups of numerical data through *quartiles* and can help identify outliers in a dataset. In a boxplot:\n",
    "- The bottom black line in a boxplot is the *minimum* value and the first black line is the *maximum* value\n",
    "- First black line is the *first quartile* (25%), second black line is the *second quartile* (50%) and third black line is the *third quartile* (75%)\n",
    "- Black diamond shapes above each plot are the outliers"
   ]
  },
  {
   "cell_type": "code",
   "execution_count": 249,
   "metadata": {},
   "outputs": [
    {
     "data": {
      "image/png": "[encoded data removed]",
      "text/plain": [
       "<Figure size 720x720 with 1 Axes>"
      ]
     },
     "metadata": {
      "needs_background": "light"
     },
     "output_type": "display_data"
    }
   ],
   "source": [
    "plt.figure(figsize=(10,10))\n",
    "sns.boxplot(data=fhs)\n",
    "plt.show()"
   ]
  },
  {
   "cell_type": "markdown",
   "metadata": {},
   "source": [
    "Extreme outliers are detected in the `totChol` and `sysBP` columns of the dataset and need to be removed. Outliers in other columns contain important information and will not be removed"
   ]
  },
  {
   "cell_type": "markdown",
   "metadata": {},
   "source": [
    "**Identifying and removing outliers in totChol and sysBP columns**"
   ]
  },
  {
   "cell_type": "code",
   "execution_count": 250,
   "metadata": {},
   "outputs": [
    {
     "data": {
      "text/plain": [
       "600.0"
      ]
     },
     "execution_count": 250,
     "metadata": {},
     "output_type": "execute_result"
    }
   ],
   "source": [
    "fhs['totChol'].max()"
   ]
  },
  {
   "cell_type": "code",
   "execution_count": 251,
   "metadata": {},
   "outputs": [
    {
     "data": {
      "text/plain": [
       "295.0"
      ]
     },
     "execution_count": 251,
     "metadata": {},
     "output_type": "execute_result"
    }
   ],
   "source": [
    "fhs['sysBP'].max()"
   ]
  },
  {
   "cell_type": "code",
   "execution_count": 252,
   "metadata": {},
   "outputs": [
    {
     "data": {
      "text/plain": [
       "(4132, 16)"
      ]
     },
     "execution_count": 252,
     "metadata": {},
     "output_type": "execute_result"
    }
   ],
   "source": [
    "fhs = fhs[fhs['totChol']<600.0]\n",
    "fhs = fhs[fhs['sysBP']<295.0]\n",
    "fhs.shape"
   ]
  },
  {
   "cell_type": "code",
   "execution_count": 253,
   "metadata": {},
   "outputs": [
    {
     "data": {
      "text/html": [
       "<div>\n",
       "<style scoped>\n",
       "    .dataframe tbody tr th:only-of-type {\n",
       "        vertical-align: middle;\n",
       "    }\n",
       "\n",
       "    .dataframe tbody tr th {\n",
       "        vertical-align: top;\n",
       "    }\n",
       "\n",
       "    .dataframe thead th {\n",
       "        text-align: right;\n",
       "    }\n",
       "</style>\n",
       "<table border=\"1\" class=\"dataframe\">\n",
       "  <thead>\n",
       "    <tr style=\"text-align: right;\">\n",
       "      <th></th>\n",
       "      <th>male</th>\n",
       "      <th>age</th>\n",
       "      <th>education</th>\n",
       "      <th>currentSmoker</th>\n",
       "      <th>cigsPerDay</th>\n",
       "      <th>BPMeds</th>\n",
       "      <th>prevalentStroke</th>\n",
       "      <th>prevalentHyp</th>\n",
       "      <th>diabetes</th>\n",
       "      <th>totChol</th>\n",
       "      <th>sysBP</th>\n",
       "      <th>diaBP</th>\n",
       "      <th>BMI</th>\n",
       "      <th>heartRate</th>\n",
       "      <th>glucose</th>\n",
       "      <th>TenYearCHD</th>\n",
       "    </tr>\n",
       "  </thead>\n",
       "  <tbody>\n",
       "    <tr>\n",
       "      <th>count</th>\n",
       "      <td>4132.000000</td>\n",
       "      <td>4132.000000</td>\n",
       "      <td>4132.000000</td>\n",
       "      <td>4132.000000</td>\n",
       "      <td>4132.000000</td>\n",
       "      <td>4132.000000</td>\n",
       "      <td>4132.000000</td>\n",
       "      <td>4132.000000</td>\n",
       "      <td>4132.000000</td>\n",
       "      <td>4132.000000</td>\n",
       "      <td>4132.000000</td>\n",
       "      <td>4132.000000</td>\n",
       "      <td>4132.000000</td>\n",
       "      <td>4132.000000</td>\n",
       "      <td>4132.000000</td>\n",
       "      <td>4132.000000</td>\n",
       "    </tr>\n",
       "    <tr>\n",
       "      <th>mean</th>\n",
       "      <td>0.427396</td>\n",
       "      <td>49.544773</td>\n",
       "      <td>1.979913</td>\n",
       "      <td>0.494918</td>\n",
       "      <td>9.034850</td>\n",
       "      <td>0.029284</td>\n",
       "      <td>0.006050</td>\n",
       "      <td>0.310745</td>\n",
       "      <td>0.025411</td>\n",
       "      <td>236.542594</td>\n",
       "      <td>132.313650</td>\n",
       "      <td>82.863262</td>\n",
       "      <td>25.765167</td>\n",
       "      <td>75.918441</td>\n",
       "      <td>81.921830</td>\n",
       "      <td>0.151258</td>\n",
       "    </tr>\n",
       "    <tr>\n",
       "      <th>std</th>\n",
       "      <td>0.494760</td>\n",
       "      <td>8.559540</td>\n",
       "      <td>1.019934</td>\n",
       "      <td>0.500035</td>\n",
       "      <td>11.889886</td>\n",
       "      <td>0.168621</td>\n",
       "      <td>0.077558</td>\n",
       "      <td>0.462855</td>\n",
       "      <td>0.157390</td>\n",
       "      <td>43.559411</td>\n",
       "      <td>21.924953</td>\n",
       "      <td>11.927089</td>\n",
       "      <td>4.076952</td>\n",
       "      <td>12.048614</td>\n",
       "      <td>23.881139</td>\n",
       "      <td>0.358344</td>\n",
       "    </tr>\n",
       "    <tr>\n",
       "      <th>min</th>\n",
       "      <td>0.000000</td>\n",
       "      <td>32.000000</td>\n",
       "      <td>1.000000</td>\n",
       "      <td>0.000000</td>\n",
       "      <td>0.000000</td>\n",
       "      <td>0.000000</td>\n",
       "      <td>0.000000</td>\n",
       "      <td>0.000000</td>\n",
       "      <td>0.000000</td>\n",
       "      <td>107.000000</td>\n",
       "      <td>83.500000</td>\n",
       "      <td>48.000000</td>\n",
       "      <td>15.540000</td>\n",
       "      <td>44.000000</td>\n",
       "      <td>40.000000</td>\n",
       "      <td>0.000000</td>\n",
       "    </tr>\n",
       "    <tr>\n",
       "      <th>25%</th>\n",
       "      <td>0.000000</td>\n",
       "      <td>42.000000</td>\n",
       "      <td>1.000000</td>\n",
       "      <td>0.000000</td>\n",
       "      <td>0.000000</td>\n",
       "      <td>0.000000</td>\n",
       "      <td>0.000000</td>\n",
       "      <td>0.000000</td>\n",
       "      <td>0.000000</td>\n",
       "      <td>206.000000</td>\n",
       "      <td>117.000000</td>\n",
       "      <td>75.000000</td>\n",
       "      <td>23.050000</td>\n",
       "      <td>68.000000</td>\n",
       "      <td>71.000000</td>\n",
       "      <td>0.000000</td>\n",
       "    </tr>\n",
       "    <tr>\n",
       "      <th>50%</th>\n",
       "      <td>0.000000</td>\n",
       "      <td>49.000000</td>\n",
       "      <td>2.000000</td>\n",
       "      <td>0.000000</td>\n",
       "      <td>0.000000</td>\n",
       "      <td>0.000000</td>\n",
       "      <td>0.000000</td>\n",
       "      <td>0.000000</td>\n",
       "      <td>0.000000</td>\n",
       "      <td>234.000000</td>\n",
       "      <td>128.000000</td>\n",
       "      <td>82.000000</td>\n",
       "      <td>25.360000</td>\n",
       "      <td>75.000000</td>\n",
       "      <td>78.000000</td>\n",
       "      <td>0.000000</td>\n",
       "    </tr>\n",
       "    <tr>\n",
       "      <th>75%</th>\n",
       "      <td>1.000000</td>\n",
       "      <td>56.000000</td>\n",
       "      <td>3.000000</td>\n",
       "      <td>1.000000</td>\n",
       "      <td>20.000000</td>\n",
       "      <td>0.000000</td>\n",
       "      <td>0.000000</td>\n",
       "      <td>1.000000</td>\n",
       "      <td>0.000000</td>\n",
       "      <td>262.000000</td>\n",
       "      <td>143.500000</td>\n",
       "      <td>89.500000</td>\n",
       "      <td>27.982500</td>\n",
       "      <td>83.000000</td>\n",
       "      <td>87.000000</td>\n",
       "      <td>0.000000</td>\n",
       "    </tr>\n",
       "    <tr>\n",
       "      <th>max</th>\n",
       "      <td>1.000000</td>\n",
       "      <td>70.000000</td>\n",
       "      <td>4.000000</td>\n",
       "      <td>1.000000</td>\n",
       "      <td>70.000000</td>\n",
       "      <td>1.000000</td>\n",
       "      <td>1.000000</td>\n",
       "      <td>1.000000</td>\n",
       "      <td>1.000000</td>\n",
       "      <td>464.000000</td>\n",
       "      <td>248.000000</td>\n",
       "      <td>142.500000</td>\n",
       "      <td>56.800000</td>\n",
       "      <td>143.000000</td>\n",
       "      <td>394.000000</td>\n",
       "      <td>1.000000</td>\n",
       "    </tr>\n",
       "  </tbody>\n",
       "</table>\n",
       "</div>"
      ],
      "text/plain": [
       "              male          age    education  currentSmoker   cigsPerDay  \\\n",
       "count  4132.000000  4132.000000  4132.000000    4132.000000  4132.000000   \n",
       "mean      0.427396    49.544773     1.979913       0.494918     9.034850   \n",
       "std       0.494760     8.559540     1.019934       0.500035    11.889886   \n",
       "min       0.000000    32.000000     1.000000       0.000000     0.000000   \n",
       "25%       0.000000    42.000000     1.000000       0.000000     0.000000   \n",
       "50%       0.000000    49.000000     2.000000       0.000000     0.000000   \n",
       "75%       1.000000    56.000000     3.000000       1.000000    20.000000   \n",
       "max       1.000000    70.000000     4.000000       1.000000    70.000000   \n",
       "\n",
       "            BPMeds  prevalentStroke  prevalentHyp     diabetes      totChol  \\\n",
       "count  4132.000000      4132.000000   4132.000000  4132.000000  4132.000000   \n",
       "mean      0.029284         0.006050      0.310745     0.025411   236.542594   \n",
       "std       0.168621         0.077558      0.462855     0.157390    43.559411   \n",
       "min       0.000000         0.000000      0.000000     0.000000   107.000000   \n",
       "25%       0.000000         0.000000      0.000000     0.000000   206.000000   \n",
       "50%       0.000000         0.000000      0.000000     0.000000   234.000000   \n",
       "75%       0.000000         0.000000      1.000000     0.000000   262.000000   \n",
       "max       1.000000         1.000000      1.000000     1.000000   464.000000   \n",
       "\n",
       "             sysBP        diaBP          BMI    heartRate      glucose  \\\n",
       "count  4132.000000  4132.000000  4132.000000  4132.000000  4132.000000   \n",
       "mean    132.313650    82.863262    25.765167    75.918441    81.921830   \n",
       "std      21.924953    11.927089     4.076952    12.048614    23.881139   \n",
       "min      83.500000    48.000000    15.540000    44.000000    40.000000   \n",
       "25%     117.000000    75.000000    23.050000    68.000000    71.000000   \n",
       "50%     128.000000    82.000000    25.360000    75.000000    78.000000   \n",
       "75%     143.500000    89.500000    27.982500    83.000000    87.000000   \n",
       "max     248.000000   142.500000    56.800000   143.000000   394.000000   \n",
       "\n",
       "        TenYearCHD  \n",
       "count  4132.000000  \n",
       "mean      0.151258  \n",
       "std       0.358344  \n",
       "min       0.000000  \n",
       "25%       0.000000  \n",
       "50%       0.000000  \n",
       "75%       0.000000  \n",
       "max       1.000000  "
      ]
     },
     "execution_count": 253,
     "metadata": {},
     "output_type": "execute_result"
    }
   ],
   "source": [
    "fhs.describe()"
   ]
  },
  {
   "cell_type": "markdown",
   "metadata": {},
   "source": [
    "Descriptive statistics summarizing mean, std deviation, percentiles and count for the updated dataset. Generating this table after removing missing values and outliers gives us a better understanding of the dataset that we are working with. "
   ]
  },
  {
   "cell_type": "code",
   "execution_count": 254,
   "metadata": {},
   "outputs": [
    {
     "data": {
      "text/html": [
       "<div>\n",
       "<style scoped>\n",
       "    .dataframe tbody tr th:only-of-type {\n",
       "        vertical-align: middle;\n",
       "    }\n",
       "\n",
       "    .dataframe tbody tr th {\n",
       "        vertical-align: top;\n",
       "    }\n",
       "\n",
       "    .dataframe thead th {\n",
       "        text-align: right;\n",
       "    }\n",
       "</style>\n",
       "<table border=\"1\" class=\"dataframe\">\n",
       "  <thead>\n",
       "    <tr style=\"text-align: right;\">\n",
       "      <th></th>\n",
       "      <th>male</th>\n",
       "      <th>age</th>\n",
       "      <th>education</th>\n",
       "      <th>currentSmoker</th>\n",
       "      <th>cigsPerDay</th>\n",
       "      <th>BPMeds</th>\n",
       "      <th>prevalentStroke</th>\n",
       "      <th>prevalentHyp</th>\n",
       "      <th>diabetes</th>\n",
       "      <th>totChol</th>\n",
       "      <th>sysBP</th>\n",
       "      <th>diaBP</th>\n",
       "      <th>BMI</th>\n",
       "      <th>heartRate</th>\n",
       "      <th>glucose</th>\n",
       "      <th>TenYearCHD</th>\n",
       "    </tr>\n",
       "  </thead>\n",
       "  <tbody>\n",
       "    <tr>\n",
       "      <th>male</th>\n",
       "      <td>1.000000</td>\n",
       "      <td>-0.029213</td>\n",
       "      <td>0.017497</td>\n",
       "      <td>0.198606</td>\n",
       "      <td>0.319838</td>\n",
       "      <td>-0.051402</td>\n",
       "      <td>-0.004321</td>\n",
       "      <td>0.004465</td>\n",
       "      <td>0.019036</td>\n",
       "      <td>-0.071709</td>\n",
       "      <td>-0.035603</td>\n",
       "      <td>0.057696</td>\n",
       "      <td>0.082428</td>\n",
       "      <td>-0.116788</td>\n",
       "      <td>0.000042</td>\n",
       "      <td>0.084486</td>\n",
       "    </tr>\n",
       "    <tr>\n",
       "      <th>age</th>\n",
       "      <td>-0.029213</td>\n",
       "      <td>1.000000</td>\n",
       "      <td>-0.165726</td>\n",
       "      <td>-0.212492</td>\n",
       "      <td>-0.192349</td>\n",
       "      <td>0.124126</td>\n",
       "      <td>0.058847</td>\n",
       "      <td>0.308287</td>\n",
       "      <td>0.101487</td>\n",
       "      <td>0.269168</td>\n",
       "      <td>0.393684</td>\n",
       "      <td>0.207674</td>\n",
       "      <td>0.133110</td>\n",
       "      <td>-0.009716</td>\n",
       "      <td>0.119453</td>\n",
       "      <td>0.226940</td>\n",
       "    </tr>\n",
       "    <tr>\n",
       "      <th>education</th>\n",
       "      <td>0.017497</td>\n",
       "      <td>-0.165726</td>\n",
       "      <td>1.000000</td>\n",
       "      <td>0.018548</td>\n",
       "      <td>0.008302</td>\n",
       "      <td>-0.010654</td>\n",
       "      <td>-0.035186</td>\n",
       "      <td>-0.081125</td>\n",
       "      <td>-0.039043</td>\n",
       "      <td>-0.023723</td>\n",
       "      <td>-0.128316</td>\n",
       "      <td>-0.061227</td>\n",
       "      <td>-0.136107</td>\n",
       "      <td>-0.053891</td>\n",
       "      <td>-0.031281</td>\n",
       "      <td>-0.053281</td>\n",
       "    </tr>\n",
       "    <tr>\n",
       "      <th>currentSmoker</th>\n",
       "      <td>0.198606</td>\n",
       "      <td>-0.212492</td>\n",
       "      <td>0.018548</td>\n",
       "      <td>1.000000</td>\n",
       "      <td>0.767733</td>\n",
       "      <td>-0.048477</td>\n",
       "      <td>-0.033538</td>\n",
       "      <td>-0.106134</td>\n",
       "      <td>-0.039883</td>\n",
       "      <td>-0.044929</td>\n",
       "      <td>-0.129422</td>\n",
       "      <td>-0.107658</td>\n",
       "      <td>-0.159032</td>\n",
       "      <td>0.058252</td>\n",
       "      <td>-0.049547</td>\n",
       "      <td>0.017125</td>\n",
       "    </tr>\n",
       "    <tr>\n",
       "      <th>cigsPerDay</th>\n",
       "      <td>0.319838</td>\n",
       "      <td>-0.192349</td>\n",
       "      <td>0.008302</td>\n",
       "      <td>0.767733</td>\n",
       "      <td>1.000000</td>\n",
       "      <td>-0.045787</td>\n",
       "      <td>-0.033305</td>\n",
       "      <td>-0.069620</td>\n",
       "      <td>-0.033977</td>\n",
       "      <td>-0.024544</td>\n",
       "      <td>-0.089545</td>\n",
       "      <td>-0.055517</td>\n",
       "      <td>-0.087427</td>\n",
       "      <td>0.072229</td>\n",
       "      <td>-0.055375</td>\n",
       "      <td>0.054442</td>\n",
       "    </tr>\n",
       "    <tr>\n",
       "      <th>BPMeds</th>\n",
       "      <td>-0.051402</td>\n",
       "      <td>0.124126</td>\n",
       "      <td>-0.010654</td>\n",
       "      <td>-0.048477</td>\n",
       "      <td>-0.045787</td>\n",
       "      <td>1.000000</td>\n",
       "      <td>0.116020</td>\n",
       "      <td>0.258675</td>\n",
       "      <td>0.044924</td>\n",
       "      <td>0.083393</td>\n",
       "      <td>0.255171</td>\n",
       "      <td>0.193311</td>\n",
       "      <td>0.098826</td>\n",
       "      <td>0.017499</td>\n",
       "      <td>0.050584</td>\n",
       "      <td>0.090932</td>\n",
       "    </tr>\n",
       "    <tr>\n",
       "      <th>prevalentStroke</th>\n",
       "      <td>-0.004321</td>\n",
       "      <td>0.058847</td>\n",
       "      <td>-0.035186</td>\n",
       "      <td>-0.033538</td>\n",
       "      <td>-0.033305</td>\n",
       "      <td>0.116020</td>\n",
       "      <td>1.000000</td>\n",
       "      <td>0.075737</td>\n",
       "      <td>0.007233</td>\n",
       "      <td>0.000389</td>\n",
       "      <td>0.058176</td>\n",
       "      <td>0.045905</td>\n",
       "      <td>0.026742</td>\n",
       "      <td>-0.018123</td>\n",
       "      <td>0.016070</td>\n",
       "      <td>0.062874</td>\n",
       "    </tr>\n",
       "    <tr>\n",
       "      <th>prevalentHyp</th>\n",
       "      <td>0.004465</td>\n",
       "      <td>0.308287</td>\n",
       "      <td>-0.081125</td>\n",
       "      <td>-0.106134</td>\n",
       "      <td>-0.069620</td>\n",
       "      <td>0.258675</td>\n",
       "      <td>0.075737</td>\n",
       "      <td>1.000000</td>\n",
       "      <td>0.074340</td>\n",
       "      <td>0.162872</td>\n",
       "      <td>0.699156</td>\n",
       "      <td>0.618107</td>\n",
       "      <td>0.298476</td>\n",
       "      <td>0.150134</td>\n",
       "      <td>0.081257</td>\n",
       "      <td>0.177742</td>\n",
       "    </tr>\n",
       "    <tr>\n",
       "      <th>diabetes</th>\n",
       "      <td>0.019036</td>\n",
       "      <td>0.101487</td>\n",
       "      <td>-0.039043</td>\n",
       "      <td>-0.039883</td>\n",
       "      <td>-0.033977</td>\n",
       "      <td>0.044924</td>\n",
       "      <td>0.007233</td>\n",
       "      <td>0.074340</td>\n",
       "      <td>1.000000</td>\n",
       "      <td>0.028778</td>\n",
       "      <td>0.109614</td>\n",
       "      <td>0.048404</td>\n",
       "      <td>0.079761</td>\n",
       "      <td>0.046410</td>\n",
       "      <td>0.576493</td>\n",
       "      <td>0.094931</td>\n",
       "    </tr>\n",
       "    <tr>\n",
       "      <th>totChol</th>\n",
       "      <td>-0.071709</td>\n",
       "      <td>0.269168</td>\n",
       "      <td>-0.023723</td>\n",
       "      <td>-0.044929</td>\n",
       "      <td>-0.024544</td>\n",
       "      <td>0.083393</td>\n",
       "      <td>0.000389</td>\n",
       "      <td>0.162872</td>\n",
       "      <td>0.028778</td>\n",
       "      <td>1.000000</td>\n",
       "      <td>0.210758</td>\n",
       "      <td>0.167218</td>\n",
       "      <td>0.115543</td>\n",
       "      <td>0.089911</td>\n",
       "      <td>0.051066</td>\n",
       "      <td>0.079602</td>\n",
       "    </tr>\n",
       "    <tr>\n",
       "      <th>sysBP</th>\n",
       "      <td>-0.035603</td>\n",
       "      <td>0.393684</td>\n",
       "      <td>-0.128316</td>\n",
       "      <td>-0.129422</td>\n",
       "      <td>-0.089545</td>\n",
       "      <td>0.255171</td>\n",
       "      <td>0.058176</td>\n",
       "      <td>0.699156</td>\n",
       "      <td>0.109614</td>\n",
       "      <td>0.210758</td>\n",
       "      <td>1.000000</td>\n",
       "      <td>0.784424</td>\n",
       "      <td>0.319829</td>\n",
       "      <td>0.184967</td>\n",
       "      <td>0.137042</td>\n",
       "      <td>0.214675</td>\n",
       "    </tr>\n",
       "    <tr>\n",
       "      <th>diaBP</th>\n",
       "      <td>0.057696</td>\n",
       "      <td>0.207674</td>\n",
       "      <td>-0.061227</td>\n",
       "      <td>-0.107658</td>\n",
       "      <td>-0.055517</td>\n",
       "      <td>0.193311</td>\n",
       "      <td>0.045905</td>\n",
       "      <td>0.618107</td>\n",
       "      <td>0.048404</td>\n",
       "      <td>0.167218</td>\n",
       "      <td>0.784424</td>\n",
       "      <td>1.000000</td>\n",
       "      <td>0.375702</td>\n",
       "      <td>0.184225</td>\n",
       "      <td>0.060974</td>\n",
       "      <td>0.143831</td>\n",
       "    </tr>\n",
       "    <tr>\n",
       "      <th>BMI</th>\n",
       "      <td>0.082428</td>\n",
       "      <td>0.133110</td>\n",
       "      <td>-0.136107</td>\n",
       "      <td>-0.159032</td>\n",
       "      <td>-0.087427</td>\n",
       "      <td>0.098826</td>\n",
       "      <td>0.026742</td>\n",
       "      <td>0.298476</td>\n",
       "      <td>0.079761</td>\n",
       "      <td>0.115543</td>\n",
       "      <td>0.319829</td>\n",
       "      <td>0.375702</td>\n",
       "      <td>1.000000</td>\n",
       "      <td>0.069891</td>\n",
       "      <td>0.072261</td>\n",
       "      <td>0.067334</td>\n",
       "    </tr>\n",
       "    <tr>\n",
       "      <th>heartRate</th>\n",
       "      <td>-0.116788</td>\n",
       "      <td>-0.009716</td>\n",
       "      <td>-0.053891</td>\n",
       "      <td>0.058252</td>\n",
       "      <td>0.072229</td>\n",
       "      <td>0.017499</td>\n",
       "      <td>-0.018123</td>\n",
       "      <td>0.150134</td>\n",
       "      <td>0.046410</td>\n",
       "      <td>0.089911</td>\n",
       "      <td>0.184967</td>\n",
       "      <td>0.184225</td>\n",
       "      <td>0.069891</td>\n",
       "      <td>1.000000</td>\n",
       "      <td>0.086254</td>\n",
       "      <td>0.019173</td>\n",
       "    </tr>\n",
       "    <tr>\n",
       "      <th>glucose</th>\n",
       "      <td>0.000042</td>\n",
       "      <td>0.119453</td>\n",
       "      <td>-0.031281</td>\n",
       "      <td>-0.049547</td>\n",
       "      <td>-0.055375</td>\n",
       "      <td>0.050584</td>\n",
       "      <td>0.016070</td>\n",
       "      <td>0.081257</td>\n",
       "      <td>0.576493</td>\n",
       "      <td>0.051066</td>\n",
       "      <td>0.137042</td>\n",
       "      <td>0.060974</td>\n",
       "      <td>0.072261</td>\n",
       "      <td>0.086254</td>\n",
       "      <td>1.000000</td>\n",
       "      <td>0.111391</td>\n",
       "    </tr>\n",
       "    <tr>\n",
       "      <th>TenYearCHD</th>\n",
       "      <td>0.084486</td>\n",
       "      <td>0.226940</td>\n",
       "      <td>-0.053281</td>\n",
       "      <td>0.017125</td>\n",
       "      <td>0.054442</td>\n",
       "      <td>0.090932</td>\n",
       "      <td>0.062874</td>\n",
       "      <td>0.177742</td>\n",
       "      <td>0.094931</td>\n",
       "      <td>0.079602</td>\n",
       "      <td>0.214675</td>\n",
       "      <td>0.143831</td>\n",
       "      <td>0.067334</td>\n",
       "      <td>0.019173</td>\n",
       "      <td>0.111391</td>\n",
       "      <td>1.000000</td>\n",
       "    </tr>\n",
       "  </tbody>\n",
       "</table>\n",
       "</div>"
      ],
      "text/plain": [
       "                     male       age  education  currentSmoker  cigsPerDay  \\\n",
       "male             1.000000 -0.029213   0.017497       0.198606    0.319838   \n",
       "age             -0.029213  1.000000  -0.165726      -0.212492   -0.192349   \n",
       "education        0.017497 -0.165726   1.000000       0.018548    0.008302   \n",
       "currentSmoker    0.198606 -0.212492   0.018548       1.000000    0.767733   \n",
       "cigsPerDay       0.319838 -0.192349   0.008302       0.767733    1.000000   \n",
       "BPMeds          -0.051402  0.124126  -0.010654      -0.048477   -0.045787   \n",
       "prevalentStroke -0.004321  0.058847  -0.035186      -0.033538   -0.033305   \n",
       "prevalentHyp     0.004465  0.308287  -0.081125      -0.106134   -0.069620   \n",
       "diabetes         0.019036  0.101487  -0.039043      -0.039883   -0.033977   \n",
       "totChol         -0.071709  0.269168  -0.023723      -0.044929   -0.024544   \n",
       "sysBP           -0.035603  0.393684  -0.128316      -0.129422   -0.089545   \n",
       "diaBP            0.057696  0.207674  -0.061227      -0.107658   -0.055517   \n",
       "BMI              0.082428  0.133110  -0.136107      -0.159032   -0.087427   \n",
       "heartRate       -0.116788 -0.009716  -0.053891       0.058252    0.072229   \n",
       "glucose          0.000042  0.119453  -0.031281      -0.049547   -0.055375   \n",
       "TenYearCHD       0.084486  0.226940  -0.053281       0.017125    0.054442   \n",
       "\n",
       "                   BPMeds  prevalentStroke  prevalentHyp  diabetes   totChol  \\\n",
       "male            -0.051402        -0.004321      0.004465  0.019036 -0.071709   \n",
       "age              0.124126         0.058847      0.308287  0.101487  0.269168   \n",
       "education       -0.010654        -0.035186     -0.081125 -0.039043 -0.023723   \n",
       "currentSmoker   -0.048477        -0.033538     -0.106134 -0.039883 -0.044929   \n",
       "cigsPerDay      -0.045787        -0.033305     -0.069620 -0.033977 -0.024544   \n",
       "BPMeds           1.000000         0.116020      0.258675  0.044924  0.083393   \n",
       "prevalentStroke  0.116020         1.000000      0.075737  0.007233  0.000389   \n",
       "prevalentHyp     0.258675         0.075737      1.000000  0.074340  0.162872   \n",
       "diabetes         0.044924         0.007233      0.074340  1.000000  0.028778   \n",
       "totChol          0.083393         0.000389      0.162872  0.028778  1.000000   \n",
       "sysBP            0.255171         0.058176      0.699156  0.109614  0.210758   \n",
       "diaBP            0.193311         0.045905      0.618107  0.048404  0.167218   \n",
       "BMI              0.098826         0.026742      0.298476  0.079761  0.115543   \n",
       "heartRate        0.017499        -0.018123      0.150134  0.046410  0.089911   \n",
       "glucose          0.050584         0.016070      0.081257  0.576493  0.051066   \n",
       "TenYearCHD       0.090932         0.062874      0.177742  0.094931  0.079602   \n",
       "\n",
       "                    sysBP     diaBP       BMI  heartRate   glucose  TenYearCHD  \n",
       "male            -0.035603  0.057696  0.082428  -0.116788  0.000042    0.084486  \n",
       "age              0.393684  0.207674  0.133110  -0.009716  0.119453    0.226940  \n",
       "education       -0.128316 -0.061227 -0.136107  -0.053891 -0.031281   -0.053281  \n",
       "currentSmoker   -0.129422 -0.107658 -0.159032   0.058252 -0.049547    0.017125  \n",
       "cigsPerDay      -0.089545 -0.055517 -0.087427   0.072229 -0.055375    0.054442  \n",
       "BPMeds           0.255171  0.193311  0.098826   0.017499  0.050584    0.090932  \n",
       "prevalentStroke  0.058176  0.045905  0.026742  -0.018123  0.016070    0.062874  \n",
       "prevalentHyp     0.699156  0.618107  0.298476   0.150134  0.081257    0.177742  \n",
       "diabetes         0.109614  0.048404  0.079761   0.046410  0.576493    0.094931  \n",
       "totChol          0.210758  0.167218  0.115543   0.089911  0.051066    0.079602  \n",
       "sysBP            1.000000  0.784424  0.319829   0.184967  0.137042    0.214675  \n",
       "diaBP            0.784424  1.000000  0.375702   0.184225  0.060974    0.143831  \n",
       "BMI              0.319829  0.375702  1.000000   0.069891  0.072261    0.067334  \n",
       "heartRate        0.184967  0.184225  0.069891   1.000000  0.086254    0.019173  \n",
       "glucose          0.137042  0.060974  0.072261   0.086254  1.000000    0.111391  \n",
       "TenYearCHD       0.214675  0.143831  0.067334   0.019173  0.111391    1.000000  "
      ]
     },
     "execution_count": 254,
     "metadata": {},
     "output_type": "execute_result"
    },
    {
     "data": {
      "image/png": "[encoded data removed]",
      "text/plain": [
       "<Figure size 1440x720 with 2 Axes>"
      ]
     },
     "metadata": {
      "needs_background": "light"
     },
     "output_type": "display_data"
    }
   ],
   "source": [
    "fhs_corr = fhs.corr()\n",
    "plt.figure(figsize=(20,10))\n",
    "sns.heatmap(fhs_corr)\n",
    "plt.title(\"Correlation between features\", size=20)\n",
    "fhs_corr"
   ]
  },
  {
   "cell_type": "markdown",
   "metadata": {},
   "source": [
    "**Reading and understanding Heatmaps**\n",
    "- Correlation range is -1 to +1\n",
    "- Closer to 0 = no linear trend\n",
    "- Closer to +1 = positively correlated\n",
    "- Closer to -1 = negatively correlated \n",
    "\n",
    "Looking at the table and plot above we see that `Education` is VERY close to 0, indicating there's no relationship between that variable and the outcome so we will choose to *drop that column*"
   ]
  },
  {
   "cell_type": "code",
   "execution_count": 255,
   "metadata": {},
   "outputs": [],
   "source": [
    "fhs = fhs.drop(['education'], axis=1)"
   ]
  },
  {
   "cell_type": "markdown",
   "metadata": {},
   "source": [
    "### Univariate Analysis"
   ]
  },
  {
   "cell_type": "markdown",
   "metadata": {},
   "source": [
    "#### Categorical variables\n",
    "Deeper understanding each of the categorical variables including the target variable"
   ]
  },
  {
   "cell_type": "code",
   "execution_count": 256,
   "metadata": {},
   "outputs": [],
   "source": [
    "categorical_vars_fhs = ['male', 'currentSmoker', 'BPMeds', 'prevalentStroke', 'prevalentHyp', 'diabetes', 'TenYearCHD']"
   ]
  },
  {
   "cell_type": "code",
   "execution_count": 257,
   "metadata": {},
   "outputs": [
    {
     "name": "stdout",
     "output_type": "stream",
     "text": [
      "male\n",
      "0    2366\n",
      "1    1766\n",
      "Name: male, dtype: int64\n",
      "currentSmoker\n",
      "0    2087\n",
      "1    2045\n",
      "Name: currentSmoker, dtype: int64\n",
      "BPMeds\n",
      "0.0    4011\n",
      "1.0     121\n",
      "Name: BPMeds, dtype: int64\n",
      "prevalentStroke\n",
      "0    4107\n",
      "1      25\n",
      "Name: prevalentStroke, dtype: int64\n",
      "prevalentHyp\n",
      "0    2848\n",
      "1    1284\n",
      "Name: prevalentHyp, dtype: int64\n",
      "diabetes\n",
      "0    4027\n",
      "1     105\n",
      "Name: diabetes, dtype: int64\n",
      "TenYearCHD\n",
      "0    3507\n",
      "1     625\n",
      "Name: TenYearCHD, dtype: int64\n"
     ]
    }
   ],
   "source": [
    "for var in categorical_vars_fhs:\n",
    "    print(var)\n",
    "    print(fhs[var].value_counts())"
   ]
  },
  {
   "cell_type": "markdown",
   "metadata": {},
   "source": [
    "From the **categorical variables**, we can deduce that:\n",
    "- `BPMeds`, `prevalentStroke`, `diabetes` and the *target variable* `TenYearCHD` are imbalanced \n",
    "- Within `currentSmoker`, number of smokers = number of non-smokers"
   ]
  },
  {
   "cell_type": "markdown",
   "metadata": {},
   "source": [
    "#### Numeric variables\n",
    "Distplots for each variable to show frequency distribution and potential skew"
   ]
  },
  {
   "cell_type": "code",
   "execution_count": 258,
   "metadata": {},
   "outputs": [
    {
     "data": {
      "image/png": "[encoded data removed]",
      "text/plain": [
       "<Figure size 288x288 with 1 Axes>"
      ]
     },
     "metadata": {
      "needs_background": "light"
     },
     "output_type": "display_data"
    },
    {
     "data": {
      "image/png": "[encoded data removed]",
      "text/plain": [
       "<Figure size 288x288 with 1 Axes>"
      ]
     },
     "metadata": {
      "needs_background": "light"
     },
     "output_type": "display_data"
    },
    {
     "data": {
      "image/png": "[encoded data removed]",
      "text/plain": [
       "<Figure size 288x288 with 1 Axes>"
      ]
     },
     "metadata": {
      "needs_background": "light"
     },
     "output_type": "display_data"
    },
    {
     "data": {
      "image/png": "[encoded data removed]",
      "text/plain": [
       "<Figure size 288x288 with 1 Axes>"
      ]
     },
     "metadata": {
      "needs_background": "light"
     },
     "output_type": "display_data"
    },
    {
     "data": {
      "image/png": "[encoded data removed]",
      "text/plain": [
       "<Figure size 288x288 with 1 Axes>"
      ]
     },
     "metadata": {
      "needs_background": "light"
     },
     "output_type": "display_data"
    },
    {
     "data": {
      "image/png": "[encoded data removed]",
      "text/plain": [
       "<Figure size 288x288 with 1 Axes>"
      ]
     },
     "metadata": {
      "needs_background": "light"
     },
     "output_type": "display_data"
    },
    {
     "data": {
      "image/png": "[encoded data removed]",
      "text/plain": [
       "<Figure size 288x288 with 1 Axes>"
      ]
     },
     "metadata": {
      "needs_background": "light"
     },
     "output_type": "display_data"
    }
   ],
   "source": [
    "numeric_vars_fhs = ['cigsPerDay', 'totChol', 'sysBP', 'diaBP', 'BMI', 'heartRate', 'glucose']\n",
    "for var in numeric_vars_fhs:\n",
    "    plt.figure(figsize=(4,4))\n",
    "    sns.distplot(fhs[var])\n",
    "    plt.title('{} Distribution'.format(var))\n",
    "    plt.show()"
   ]
  },
  {
   "cell_type": "markdown",
   "metadata": {},
   "source": [
    "From the **numerical** variables, we can deduce that:\n",
    "- `totChol`, `sysBP`, `diaBP`, `BMI`, and `glucose` are normally distributed \n",
    "- `cigsPerDay` is highly unevenly (right skew) distributed, with most records nearing 0 "
   ]
  },
  {
   "cell_type": "markdown",
   "metadata": {},
   "source": [
    "### Bivariate Analysis"
   ]
  },
  {
   "cell_type": "markdown",
   "metadata": {},
   "source": [
    "Looking into the relationship between two variables "
   ]
  },
  {
   "cell_type": "markdown",
   "metadata": {},
   "source": [
    "**Relationship between gender and risk of developing CHD** using a simple bar plot"
   ]
  },
  {
   "cell_type": "code",
   "execution_count": 259,
   "metadata": {},
   "outputs": [],
   "source": [
    "gender_graph = fhs.groupby(\"male\", as_index=False).TenYearCHD.sum()"
   ]
  },
  {
   "cell_type": "code",
   "execution_count": 260,
   "metadata": {},
   "outputs": [
    {
     "data": {
      "text/plain": [
       "Text(0, 0.5, 'TenYearCHD cases')"
      ]
     },
     "execution_count": 260,
     "metadata": {},
     "output_type": "execute_result"
    },
    {
     "data": {
      "image/png": "[encoded data removed]",
      "text/plain": [
       "<Figure size 576x432 with 1 Axes>"
      ]
     },
     "metadata": {
      "needs_background": "light"
     },
     "output_type": "display_data"
    }
   ],
   "source": [
    "plt.figure(figsize=(8,6))\n",
    "sns.barplot(x=gender_graph[\"male\"], y=gender_graph[\"TenYearCHD\"])\n",
    "plt.title(\"Graph showing which gender has more risk of coronary heart disease CHD\", size=15)\n",
    "plt.xlabel(\"Gender\\n0 is female and 1 is male\",size=15)\n",
    "plt.ylabel(\"TenYearCHD cases\", size=15)"
   ]
  },
  {
   "cell_type": "markdown",
   "metadata": {},
   "source": [
    "**Relationship between cigsPerDay and risk of developing CHD**\n",
    "using Seaborn's countplot to show the counts of observations in each categorical 'bin' using bars "
   ]
  },
  {
   "cell_type": "code",
   "execution_count": 261,
   "metadata": {},
   "outputs": [
    {
     "data": {
      "image/png": "[encoded data removed]",
      "text/plain": [
       "<Figure size 2160x864 with 1 Axes>"
      ]
     },
     "metadata": {},
     "output_type": "display_data"
    }
   ],
   "source": [
    "plt.figure(figsize=(30,12), facecolor='w')\n",
    "sns.countplot(x='TenYearCHD', data=fhs, hue='cigsPerDay')\n",
    "plt.legend(title = 'cigsPerDay', fontsize='large')\n",
    "plt.title(\"Graph showing the relationship between cigsPerDay and risk of developing CHD\", size=28)\n",
    "plt.xlabel(\"Risk of developing, TenYearCHD\", size=25)\n",
    "plt.ylabel(\"Count, TenYearCHD\", size=25)\n",
    "plt.show()"
   ]
  },
  {
   "cell_type": "markdown",
   "metadata": {},
   "source": [
    "- The more `cigsPerDay` an individual smokes, the greater the chance of developing `TenYearCHD` \n",
    "- Individuals who do not smoke or smoke just a few `cigsPerDay` have a very low risk of developing `TenYearCHD`"
   ]
  },
  {
   "cell_type": "markdown",
   "metadata": {},
   "source": [
    "**Relationship between sysBP and risk of developing CHD** using a simple bar plot "
   ]
  },
  {
   "cell_type": "code",
   "execution_count": 262,
   "metadata": {},
   "outputs": [
    {
     "data": {
      "text/plain": [
       "Text(0, 0.5, 'SysBP')"
      ]
     },
     "execution_count": 262,
     "metadata": {},
     "output_type": "execute_result"
    },
    {
     "data": {
      "image/png": "[encoded data removed]",
      "text/plain": [
       "<Figure size 576x432 with 1 Axes>"
      ]
     },
     "metadata": {
      "needs_background": "light"
     },
     "output_type": "display_data"
    }
   ],
   "source": [
    "sysbp_graph = fhs.groupby(\"TenYearCHD\", as_index=False).sysBP.mean() \n",
    "plt.figure(figsize=(8,6))\n",
    "sns.barplot(x=sysbp_graph[\"TenYearCHD\"], y=sysbp_graph[\"sysBP\"])\n",
    "plt.title(\"Graph showing the relationship between sysBP and risk of developing CHD\", size=15)\n",
    "plt.xlabel(\"Risk of CHD\", size=15)\n",
    "plt.ylabel(\"SysBP\", size=15)"
   ]
  },
  {
   "cell_type": "code",
   "execution_count": 263,
   "metadata": {},
   "outputs": [
    {
     "data": {
      "text/plain": [
       "Text(0.5, 1.0, 'Distribution of sysBP in relation to developing CHD')"
      ]
     },
     "execution_count": 263,
     "metadata": {},
     "output_type": "execute_result"
    },
    {
     "data": {
      "image/png": "[encoded data removed]",
      "text/plain": [
       "<Figure size 396x396 with 1 Axes>"
      ]
     },
     "metadata": {
      "needs_background": "light"
     },
     "output_type": "display_data"
    }
   ],
   "source": [
    "plt.figure(figsize=(5.5,5.5))\n",
    "sns.regplot(x=sysbp_graph[\"TenYearCHD\"], y=sysbp_graph[\"sysBP\"])\n",
    "plt.title(\"Distribution of sysBP in relation to developing CHD\", size=15)"
   ]
  },
  {
   "cell_type": "markdown",
   "metadata": {},
   "source": [
    "The trendline we see in the regplot is linearly increasing which indicates that there is a positive correlation between sysBP and risk of CHD, **risk of developing CHD increases as sysBP increases**"
   ]
  },
  {
   "cell_type": "code",
   "execution_count": 264,
   "metadata": {},
   "outputs": [
    {
     "data": {
      "text/plain": [
       "Text(0, 0.5, 'DiaBP')"
      ]
     },
     "execution_count": 264,
     "metadata": {},
     "output_type": "execute_result"
    },
    {
     "data": {
      "image/png": "[encoded data removed]",
      "text/plain": [
       "<Figure size 360x360 with 1 Axes>"
      ]
     },
     "metadata": {
      "needs_background": "light"
     },
     "output_type": "display_data"
    }
   ],
   "source": [
    "diabp_graph = fhs.groupby(\"TenYearCHD\", as_index=False).diaBP.mean() \n",
    "plt.figure(figsize=(5,5))\n",
    "sns.barplot(x=diabp_graph[\"TenYearCHD\"], y=diabp_graph[\"diaBP\"])\n",
    "plt.title(\"Graph showing the relationship between diaBP and risk of developing CHD\", size=12)\n",
    "plt.xlabel(\"Risk of CHD\", size=13)\n",
    "plt.ylabel(\"DiaBP\", size=13)"
   ]
  },
  {
   "cell_type": "code",
   "execution_count": 265,
   "metadata": {},
   "outputs": [
    {
     "data": {
      "text/plain": [
       "Text(0.5, 1.0, 'Distribution of diaBP in relation to developing CHD')"
      ]
     },
     "execution_count": 265,
     "metadata": {},
     "output_type": "execute_result"
    },
    {
     "data": {
      "image/png": "[encoded data removed]",
      "text/plain": [
       "<Figure size 576x576 with 1 Axes>"
      ]
     },
     "metadata": {
      "needs_background": "light"
     },
     "output_type": "display_data"
    }
   ],
   "source": [
    "plt.figure(figsize=(8,8))\n",
    "sns.regplot(x=diabp_graph[\"TenYearCHD\"], y=diabp_graph[\"diaBP\"])\n",
    "plt.title(\"Distribution of diaBP in relation to developing CHD\", size=15)"
   ]
  },
  {
   "cell_type": "markdown",
   "metadata": {},
   "source": [
    "The trendline we see in the regplot is linearly increasing which indicates that there is a positive correlation between diaBP and risk of CHD, **risk of developing CHD increases as diaBP increases**"
   ]
  },
  {
   "cell_type": "markdown",
   "metadata": {},
   "source": [
    "### Feature Selection "
   ]
  },
  {
   "cell_type": "markdown",
   "metadata": {},
   "source": [
    "With feature selection, we're able to *include only relevant features* in our machine learning models. Irrelevant, or partially relevant, features can negatively impact our model performance if not removed. The process of feature selection includes ***choosing features that contribute most to the prediction output.***\n",
    "\n",
    "There are different ways of finding the right feature selection technique for a dataset: we can filter based on type of learning (supervised vs unsupervised) or input/output variable (numerical vs categorial). \n",
    "\n",
    "For this project, we will use two feature selection methods:\n",
    "- ***SelectKBest***: consider this to be a kind of 'wrapper' since we can indicate what function we would like to use in feature selection. This project utilized chi2 so SKB calculates the chi-squared statistic between each feature of X and y class labels and returns the first k features of X with the highest scores.\n",
    "\n",
    "- ***Mutual Information Classification***: can estimate information for a discrete target variable by measuring the dependency of features with the target variable. A higher score indicates the more dependent the variable.\n",
    "\n",
    "This [article](https://machinelearningmastery.com/feature-selection-with-real-and-categorical-data/) and this [article](https://medium.com/@hertan06/which-features-to-use-in-your-model-350630a1e31cis) are great resources that dive deeper into feature selection for a dataset and implementation of feature selection methods, respectively. "
   ]
  },
  {
   "cell_type": "code",
   "execution_count": 266,
   "metadata": {},
   "outputs": [
    {
     "name": "stdout",
     "output_type": "stream",
     "text": [
      "X =  (4132, 14) y =  (4132,)\n"
     ]
    }
   ],
   "source": [
    "X = fhs.iloc[:,0:14]\n",
    "y = fhs.iloc[:,-1]\n",
    "print(\"X = \", X.shape, \"y = \", y.shape)"
   ]
  },
  {
   "cell_type": "code",
   "execution_count": 267,
   "metadata": {},
   "outputs": [
    {
     "name": "stdout",
     "output_type": "stream",
     "text": [
      "           Specs       Score\n",
      "9          sysBP  691.655722\n",
      "13       glucose  356.832707\n",
      "1            age  314.614421\n",
      "8        totChol  209.969950\n",
      "3     cigsPerDay  191.581223\n",
      "10         diaBP  146.711990\n",
      "6   prevalentHyp   89.974858\n",
      "7       diabetes   36.291237\n",
      "4         BPMeds   33.165316\n",
      "0           male   16.888078\n"
     ]
    }
   ],
   "source": [
    "bestfeatures_skb = SelectKBest(score_func=chi2, k=8) \n",
    "fit_skb = bestfeatures_skb.fit(X,y) \n",
    "dfscores = pd.DataFrame(fit_skb.scores_)\n",
    "dfcolumns = pd.DataFrame(X.columns)\n",
    "#concat two dataframes for better visualization \n",
    "featureScores = pd.concat([dfcolumns,dfscores],axis=1)\n",
    "featureScores.columns = ['Specs','Score']  #naming the dataframe columns\n",
    "print(featureScores.nlargest(10,'Score'))  #print 10 best features"
   ]
  },
  {
   "cell_type": "code",
   "execution_count": 268,
   "metadata": {},
   "outputs": [
    {
     "name": "stdout",
     "output_type": "stream",
     "text": [
      "age 0.01858692710302612\n",
      "prevalentHyp 0.017625283311859086\n",
      "sysBP 0.014623253740561282\n",
      "diaBP 0.009130359317964132\n",
      "totChol 0.0074803461066887955\n",
      "BMI 0.006362003023155927\n",
      "male 0.0051569594968869925\n",
      "heartRate 0.004573151282309285\n",
      "BPMeds 0.0022342451846886213\n",
      "diabetes 0.0014005392758120738\n"
     ]
    }
   ],
   "source": [
    "threshold = 10  # the number of most relevant features\n",
    "high_score_features = []\n",
    "feature_scores = mutual_info_classif(X, y, random_state=1)\n",
    "for score, f_name in sorted(zip(feature_scores, X.columns), reverse=True)[:threshold]:\n",
    "        print(f_name, score)\n",
    "        high_score_features.append(f_name)\n",
    "feature_scores_mic = X[high_score_features]"
   ]
  },
  {
   "cell_type": "markdown",
   "metadata": {},
   "source": [
    "SelectKBest indicates that sysBP, glucose, age, totChol, cigsPerDay, diaBP, prevalentHyp, diabetes, BPMeds and male are the features that strongly influence the target outcome. \n",
    "\n",
    "Mutual Classification Information results are slightly different and indicates that age, prevalentHyp, sysBP, diaBP, totChol, BMI, male, heartRate, BPMeds and diabetes are the features that strongly influence the target outcome.\n",
    "\n",
    "Using a combination of the results from both of these methodologies, the features that will be used in predictive modelling will be `sysBP`, `age`, `totChol`, `diaBP`, `prevalentHyp`, `diabetes`, `BPMeds` and `male`.\n"
   ]
  },
  {
   "cell_type": "code",
   "execution_count": 269,
   "metadata": {},
   "outputs": [
    {
     "data": {
      "text/html": [
       "<div>\n",
       "<style scoped>\n",
       "    .dataframe tbody tr th:only-of-type {\n",
       "        vertical-align: middle;\n",
       "    }\n",
       "\n",
       "    .dataframe tbody tr th {\n",
       "        vertical-align: top;\n",
       "    }\n",
       "\n",
       "    .dataframe thead th {\n",
       "        text-align: right;\n",
       "    }\n",
       "</style>\n",
       "<table border=\"1\" class=\"dataframe\">\n",
       "  <thead>\n",
       "    <tr style=\"text-align: right;\">\n",
       "      <th></th>\n",
       "      <th>sysBP</th>\n",
       "      <th>age</th>\n",
       "      <th>totChol</th>\n",
       "      <th>diaBP</th>\n",
       "      <th>prevalentHyp</th>\n",
       "      <th>diabetes</th>\n",
       "      <th>BPMeds</th>\n",
       "      <th>male</th>\n",
       "      <th>TenYearCHD</th>\n",
       "    </tr>\n",
       "  </thead>\n",
       "  <tbody>\n",
       "    <tr>\n",
       "      <th>0</th>\n",
       "      <td>106.0</td>\n",
       "      <td>39</td>\n",
       "      <td>195.0</td>\n",
       "      <td>70.0</td>\n",
       "      <td>0</td>\n",
       "      <td>0</td>\n",
       "      <td>0.0</td>\n",
       "      <td>1</td>\n",
       "      <td>0</td>\n",
       "    </tr>\n",
       "    <tr>\n",
       "      <th>1</th>\n",
       "      <td>121.0</td>\n",
       "      <td>46</td>\n",
       "      <td>250.0</td>\n",
       "      <td>81.0</td>\n",
       "      <td>0</td>\n",
       "      <td>0</td>\n",
       "      <td>0.0</td>\n",
       "      <td>0</td>\n",
       "      <td>0</td>\n",
       "    </tr>\n",
       "    <tr>\n",
       "      <th>2</th>\n",
       "      <td>127.5</td>\n",
       "      <td>48</td>\n",
       "      <td>245.0</td>\n",
       "      <td>80.0</td>\n",
       "      <td>0</td>\n",
       "      <td>0</td>\n",
       "      <td>0.0</td>\n",
       "      <td>1</td>\n",
       "      <td>0</td>\n",
       "    </tr>\n",
       "    <tr>\n",
       "      <th>3</th>\n",
       "      <td>150.0</td>\n",
       "      <td>61</td>\n",
       "      <td>225.0</td>\n",
       "      <td>95.0</td>\n",
       "      <td>1</td>\n",
       "      <td>0</td>\n",
       "      <td>0.0</td>\n",
       "      <td>0</td>\n",
       "      <td>1</td>\n",
       "    </tr>\n",
       "    <tr>\n",
       "      <th>4</th>\n",
       "      <td>130.0</td>\n",
       "      <td>46</td>\n",
       "      <td>285.0</td>\n",
       "      <td>84.0</td>\n",
       "      <td>0</td>\n",
       "      <td>0</td>\n",
       "      <td>0.0</td>\n",
       "      <td>0</td>\n",
       "      <td>0</td>\n",
       "    </tr>\n",
       "  </tbody>\n",
       "</table>\n",
       "</div>"
      ],
      "text/plain": [
       "   sysBP  age  totChol  diaBP  prevalentHyp  diabetes  BPMeds  male  \\\n",
       "0  106.0   39    195.0   70.0             0         0     0.0     1   \n",
       "1  121.0   46    250.0   81.0             0         0     0.0     0   \n",
       "2  127.5   48    245.0   80.0             0         0     0.0     1   \n",
       "3  150.0   61    225.0   95.0             1         0     0.0     0   \n",
       "4  130.0   46    285.0   84.0             0         0     0.0     0   \n",
       "\n",
       "   TenYearCHD  \n",
       "0           0  \n",
       "1           0  \n",
       "2           0  \n",
       "3           1  \n",
       "4           0  "
      ]
     },
     "execution_count": 269,
     "metadata": {},
     "output_type": "execute_result"
    }
   ],
   "source": [
    "fhs = fhs[['sysBP', 'age', 'totChol', 'diaBP', 'prevalentHyp', 'diabetes', 'BPMeds', 'male','TenYearCHD' ]]\n",
    "fhs.head()"
   ]
  },
  {
   "cell_type": "markdown",
   "metadata": {},
   "source": [
    "### Train Test Split"
   ]
  },
  {
   "cell_type": "code",
   "execution_count": 270,
   "metadata": {},
   "outputs": [],
   "source": [
    "X = fhs.drop(['TenYearCHD'], axis=1) #2D input array\n",
    "y = fhs['TenYearCHD'] #1D input array\n",
    "X_train, X_test, y_train, y_test = train_test_split(X, y, test_size=0.2, random_state=25)"
   ]
  },
  {
   "cell_type": "markdown",
   "metadata": {},
   "source": [
    "### Feature Scaling"
   ]
  },
  {
   "cell_type": "markdown",
   "metadata": {},
   "source": [
    "Scaling ensures that higher ranging and lower ranging numbers in the features of the dataset have the ***same 'weight' in the model.*** Feature scaling is essential for machine learning algorithms that calculate distances between data (this project will incorporate all models, including those dependent on data distance). \n",
    "\n",
    "We will be using **Min Max Scaler** since the ***distribution of our data is normal*** and as we've ***removed sensitive outliers.*** "
   ]
  },
  {
   "cell_type": "code",
   "execution_count": 271,
   "metadata": {},
   "outputs": [],
   "source": [
    "scaler = MinMaxScaler()\n",
    "X_train = scaler.fit_transform(X_train)\n",
    "X_test = scaler.transform(X_test)"
   ]
  },
  {
   "cell_type": "markdown",
   "metadata": {},
   "source": [
    "#### Resampling imbalanced target variable"
   ]
  },
  {
   "cell_type": "markdown",
   "metadata": {},
   "source": [
    "From the earlier univariate analysis, we can see that the target variable is ***highly imbalanced***. If we use this imbalanced variable to predict, **our models will favor the majority class and choose to ignore the minority class** resulting in *high accuracy but low recall* models. To help balance the classes, we will use the **'SMOTE'** (Synthetic Minority Oversampling Technique) method which oversamples the minority class by synthesizing new samples from existing ones. "
   ]
  },
  {
   "cell_type": "code",
   "execution_count": 272,
   "metadata": {},
   "outputs": [
    {
     "name": "stdout",
     "output_type": "stream",
     "text": [
      "Shape of X before SMOTE: (4132, 8)\n",
      "Shape of X after SMOTE: (7014, 8)\n",
      "\n",
      "Number of positive and negative instances in both classes (%):\n"
     ]
    },
    {
     "data": {
      "text/plain": [
       "1    50.0\n",
       "0    50.0\n",
       "Name: TenYearCHD, dtype: float64"
      ]
     },
     "execution_count": 272,
     "metadata": {},
     "output_type": "execute_result"
    }
   ],
   "source": [
    "sm = SMOTE(random_state=1)\n",
    "X_sm, y_sm = sm.fit_resample(X,y)\n",
    "\n",
    "print(f'''Shape of X before SMOTE: {X.shape}\n",
    "Shape of X after SMOTE: {X_sm.shape}''')\n",
    "\n",
    "print('\\nNumber of positive and negative instances in both classes (%):')\n",
    "y_sm.value_counts(normalize=True) * 100"
   ]
  },
  {
   "cell_type": "markdown",
   "metadata": {},
   "source": [
    "So far we’ve explored the dataset, identified and removed outliers, analyzed our categorical and numerical variables in depth, appropriately divided our data into testing and training datasets, scaled our features, selected our features (using SelectKBest and Mutual Information Classification) and balanced our target variable using SMOTE. \n",
    "\n",
    "***We are now ready to apply machine learning algorithms.***"
   ]
  },
  {
   "cell_type": "markdown",
   "metadata": {},
   "source": [
    "### Predictive Modeling "
   ]
  },
  {
   "cell_type": "markdown",
   "metadata": {},
   "source": [
    "#### Logistic Regression"
   ]
  },
  {
   "cell_type": "code",
   "execution_count": 273,
   "metadata": {},
   "outputs": [
    {
     "name": "stdout",
     "output_type": "stream",
     "text": [
      "Accuracy of Logistic Regression: 0.841596130592503\n",
      "Logistic Regression Confusion Matrix: [[693   3]\n",
      " [128   3]]\n",
      "              precision    recall  f1-score   support\n",
      "\n",
      "           0       0.84      1.00      0.91       696\n",
      "           1       0.50      0.02      0.04       131\n",
      "\n",
      "    accuracy                           0.84       827\n",
      "   macro avg       0.67      0.51      0.48       827\n",
      "weighted avg       0.79      0.84      0.78       827\n",
      "\n"
     ]
    }
   ],
   "source": [
    "lr = LogisticRegression(random_state=25, max_iter=100) \n",
    "lr_model = fhs_lr.fit(X_train, y_train)\n",
    "lr_predict = fhs_lr.predict(X_test)\n",
    "lr_accuracy = accuracy_score(y_test, lr_predict) \n",
    "lr_cm = confusion_matrix(y_test, lr_predict)\n",
    "print(\"Accuracy of Logistic Regression:\", lr_accuracy)\n",
    "print(\"Logistic Regression Confusion Matrix:\", lr_cm)\n",
    "print(classification_report(y_test, lr_predict))"
   ]
  },
  {
   "cell_type": "markdown",
   "metadata": {},
   "source": [
    "#### Random Forest Classification"
   ]
  },
  {
   "cell_type": "code",
   "execution_count": 274,
   "metadata": {
    "scrolled": true
   },
   "outputs": [
    {
     "name": "stdout",
     "output_type": "stream",
     "text": [
      "Accuracy of Random Forest: 0.841596130592503\n",
      "Random Forest Confusion Matrix: [[688   8]\n",
      " [123   8]]\n",
      "              precision    recall  f1-score   support\n",
      "\n",
      "           0       0.85      0.99      0.91       696\n",
      "           1       0.50      0.06      0.11       131\n",
      "\n",
      "    accuracy                           0.84       827\n",
      "   macro avg       0.67      0.52      0.51       827\n",
      "weighted avg       0.79      0.84      0.79       827\n",
      "\n"
     ]
    }
   ],
   "source": [
    "rf = RandomForestClassifier(n_estimators=100, random_state=25, max_depth=12)\n",
    "rf.fit(X_train, y_train)\n",
    "rf_predict = rf.predict(X_test)\n",
    "rf_accuracy = accuracy_score(y_test, rf_predict)\n",
    "rf_cm = confusion_matrix(y_test, rf_predict)\n",
    "print(\"Accuracy of Random Forest:\", rf_accuracy)\n",
    "print(\"Random Forest Confusion Matrix:\", rf_cm)\n",
    "print(classification_report(y_test, rf_predict))"
   ]
  },
  {
   "cell_type": "markdown",
   "metadata": {},
   "source": [
    "#### K-Nearest Neighbors"
   ]
  },
  {
   "cell_type": "code",
   "execution_count": 293,
   "metadata": {},
   "outputs": [
    {
     "name": "stdout",
     "output_type": "stream",
     "text": [
      "Accuracy of KNN Classification: 0.8307134220072552\n",
      "KNN Classification Confusion Matrix: [[673  23]\n",
      " [117  14]]\n",
      "              precision    recall  f1-score   support\n",
      "\n",
      "           0       0.85      0.97      0.91       696\n",
      "           1       0.38      0.11      0.17       131\n",
      "\n",
      "    accuracy                           0.83       827\n",
      "   macro avg       0.62      0.54      0.54       827\n",
      "weighted avg       0.78      0.83      0.79       827\n",
      "\n"
     ]
    }
   ],
   "source": [
    "knn = KNeighborsClassifier(n_neighbors=5)\n",
    "knn_model = knn.fit(X_train, y_train)\n",
    "knn_predict = knn.predict(X_test)\n",
    "knn_cm = confusion_matrix(y_test, knn_predict)\n",
    "knn_accuracy = accuracy_score(y_test, knn_predict)\n",
    "print(\"Accuracy of KNN Classification:\", knn_accuracy)\n",
    "print(\"KNN Classification Confusion Matrix:\", knn_cm)\n",
    "print(classification_report(y_test, knn_predict))"
   ]
  },
  {
   "cell_type": "markdown",
   "metadata": {},
   "source": [
    "#### Support Vector Machine "
   ]
  },
  {
   "cell_type": "code",
   "execution_count": 294,
   "metadata": {},
   "outputs": [
    {
     "name": "stdout",
     "output_type": "stream",
     "text": [
      "Accuracy of SVM Classification: 0.841596130592503\n",
      "SVM Classification Confusion Matrix: [[695   1]\n",
      " [130   1]]\n",
      "              precision    recall  f1-score   support\n",
      "\n",
      "           0       0.84      1.00      0.91       696\n",
      "           1       0.50      0.01      0.02       131\n",
      "\n",
      "    accuracy                           0.84       827\n",
      "   macro avg       0.67      0.50      0.46       827\n",
      "weighted avg       0.79      0.84      0.77       827\n",
      "\n"
     ]
    }
   ],
   "source": [
    "svm = SVC()\n",
    "svm_model = svm.fit(X_train, y_train)\n",
    "svm_predict = svm.predict(X_test)\n",
    "svm_cm = confusion_matrix(y_test, svm_predict)\n",
    "svm_accuracy = accuracy_score(y_test, svm_predict)\n",
    "print(\"Accuracy of SVM Classification:\", svm_accuracy)\n",
    "print(\"SVM Classification Confusion Matrix:\", svm_cm)\n",
    "print(classification_report(y_test, svm_predict))"
   ]
  },
  {
   "cell_type": "markdown",
   "metadata": {},
   "source": [
    "#### Hypertuned Random Forest Classification"
   ]
  },
  {
   "cell_type": "code",
   "execution_count": 275,
   "metadata": {},
   "outputs": [
    {
     "name": "stdout",
     "output_type": "stream",
     "text": [
      "{'n_estimators': [100, 200, 300, 400, 500, 600, 700, 800, 900, 1000], 'max_features': ['auto', 'sqrt'], 'max_depth': [10, 20, 30, 40, 50, 60, 70, 80, 90, 100, None], 'min_samples_split': [2, 5, 10], 'min_samples_leaf': [1, 2, 4], 'bootstrap': [True, False]}\n"
     ]
    }
   ],
   "source": [
    "#adjusting RF hyperparameters by creating a parameter grid to sample while fitting\n",
    "\n",
    "# Number of trees in forest \n",
    "n_estimators = [int(x) for x in np.linspace(start= 100, stop = 1000, num = 10)] #no. of trees ranges from 100-1000 in intervals of 20\n",
    "\n",
    "# Max number of features needed before each split\n",
    "max_features = [\"auto\", \"sqrt\"]\n",
    "\n",
    "# Max no. of levels in each tree\n",
    "max_depth = [int(x) for x in np.linspace(start=10, stop=100, num = 10)] #no. of trees ranges from 10-100 in intervals of 10\n",
    "max_depth.append(None)\n",
    "\n",
    "# Min no. of samples needed to split a node  \n",
    "min_samples_split = [2, 5, 10]\n",
    "\n",
    "# Min no. of samples needed at each node \n",
    "min_samples_leaf = [1, 2, 4]\n",
    "\n",
    "# Method of choosing samples for training each tree\n",
    "bootstrap = [True, False]\n",
    "\n",
    "# Create the random grid\n",
    "rf_grid = {'n_estimators': n_estimators,\n",
    "               'max_features': max_features,\n",
    "               'max_depth': max_depth,\n",
    "               'min_samples_split': min_samples_split,\n",
    "               'min_samples_leaf': min_samples_leaf,\n",
    "               'bootstrap': bootstrap}\n",
    "\n",
    "print(rf_grid)"
   ]
  },
  {
   "cell_type": "code",
   "execution_count": 276,
   "metadata": {},
   "outputs": [
    {
     "name": "stdout",
     "output_type": "stream",
     "text": [
      "Fitting 3 folds for each of 100 candidates, totalling 300 fits\n"
     ]
    },
    {
     "name": "stderr",
     "output_type": "stream",
     "text": [
      "[Parallel(n_jobs=-1)]: Using backend LokyBackend with 4 concurrent workers.\n",
      "[Parallel(n_jobs=-1)]: Done  33 tasks      | elapsed:   38.2s\n",
      "[Parallel(n_jobs=-1)]: Done 154 tasks      | elapsed:  3.1min\n",
      "[Parallel(n_jobs=-1)]: Done 300 out of 300 | elapsed:  5.4min finished\n"
     ]
    },
    {
     "data": {
      "text/plain": [
       "RandomizedSearchCV(cv=3, error_score=nan,\n",
       "                   estimator=RandomForestClassifier(bootstrap=True,\n",
       "                                                    ccp_alpha=0.0,\n",
       "                                                    class_weight=None,\n",
       "                                                    criterion='gini',\n",
       "                                                    max_depth=None,\n",
       "                                                    max_features='auto',\n",
       "                                                    max_leaf_nodes=None,\n",
       "                                                    max_samples=None,\n",
       "                                                    min_impurity_decrease=0.0,\n",
       "                                                    min_impurity_split=None,\n",
       "                                                    min_samples_leaf=1,\n",
       "                                                    min_samples_split=2,\n",
       "                                                    min_weight_fraction_leaf=0.0,\n",
       "                                                    n_estimators=100,\n",
       "                                                    n_jobs...\n",
       "                   iid='deprecated', n_iter=100, n_jobs=-1,\n",
       "                   param_distributions={'bootstrap': [True, False],\n",
       "                                        'max_depth': [10, 20, 30, 40, 50, 60,\n",
       "                                                      70, 80, 90, 100, None],\n",
       "                                        'max_features': ['auto', 'sqrt'],\n",
       "                                        'min_samples_leaf': [1, 2, 4],\n",
       "                                        'min_samples_split': [2, 5, 10],\n",
       "                                        'n_estimators': [100, 200, 300, 400,\n",
       "                                                         500, 600, 700, 800,\n",
       "                                                         900, 1000]},\n",
       "                   pre_dispatch='2*n_jobs', random_state=25, refit=True,\n",
       "                   return_train_score=False, scoring=None, verbose=2)"
      ]
     },
     "execution_count": 276,
     "metadata": {},
     "output_type": "execute_result"
    }
   ],
   "source": [
    "#Create base model to tune and use random grid to find best hyperparameters \n",
    "rf_hyp = RandomForestClassifier()\n",
    "\n",
    "#Random search of parameters through 3-Fold cross-validation \n",
    "rf_hyp_rs = RandomizedSearchCV(estimator=rf_hyp, param_distributions = rf_grid, n_iter=100, cv=3, verbose=2, random_state=25, n_jobs=-1)\n",
    "\n",
    "#Fit random search model\n",
    "rf_hyp_rs.fit(X_train, y_train)"
   ]
  },
  {
   "cell_type": "code",
   "execution_count": 277,
   "metadata": {},
   "outputs": [
    {
     "name": "stdout",
     "output_type": "stream",
     "text": [
      "Accuracy of Hypertuned Random Forest: 0.8440145102781137\n",
      "Hypertuned Random Forest: [[695   1]\n",
      " [128   3]]\n",
      "              precision    recall  f1-score   support\n",
      "\n",
      "           0       0.84      1.00      0.92       696\n",
      "           1       0.75      0.02      0.04       131\n",
      "\n",
      "    accuracy                           0.84       827\n",
      "   macro avg       0.80      0.51      0.48       827\n",
      "weighted avg       0.83      0.84      0.78       827\n",
      "\n"
     ]
    }
   ],
   "source": [
    "#Comparing the random search random forest model to the base random forest model \n",
    "rf_hyp_model = rf_hyp_rs.best_estimator_\n",
    "rf_hyp_model.fit(X_train, y_train)\n",
    "rf_hyp_predict = rf_hyp_model.predict(X_test)\n",
    "rf_hyp_cm = confusion_matrix(y_test, rf_hyp_predict)\n",
    "rf_hyp_accuracy = accuracy_score(y_test, rf_hyp_predict)\n",
    "print(\"Accuracy of Hypertuned Random Forest:\", rf_hyp_accuracy)\n",
    "print(\"Hypertuned Random Forest:\", rf_hyp_cm)\n",
    "print(classification_report(y_test, rf_hyp_predict))"
   ]
  },
  {
   "cell_type": "markdown",
   "metadata": {},
   "source": [
    "#### Hypertuned K-Nearest Neighbors Classification"
   ]
  },
  {
   "cell_type": "code",
   "execution_count": 279,
   "metadata": {},
   "outputs": [],
   "source": [
    "# affects speed and memory of query, passed on to algorithm (balltree or kdtree)\n",
    "leaf_size= list(range(1,50))\n",
    "\n",
    "# Number of neighbors \n",
    "n_neighbors= list(range(1,30))\n",
    "\n",
    "# minkowski metric power parameter \n",
    "p= [1,2]\n",
    "\n",
    "#creating the dict 'grid'\n",
    "knn_hyperparameters = dict(leaf_size=leaf_size, n_neighbors=n_neighbors, p=p)\n"
   ]
  },
  {
   "cell_type": "code",
   "execution_count": 280,
   "metadata": {},
   "outputs": [],
   "source": [
    "#Create base model to tune and use grid to find best hyperparameters \n",
    "knn_hyp_obj = KNeighborsClassifier() \n",
    "\n",
    "#Random search of parameters through 3-Fold cross-validation \n",
    "knn_hyp_grid = RandomizedSearchCV(knn_hyp_obj, knn_hyperparameters, random_state = 25, cv=3, n_jobs=-1)\n",
    "\n",
    "#Fit random search model\n",
    "knn_hyp_model = knn_hyp_grid.fit(X_train, y_train)"
   ]
  },
  {
   "cell_type": "code",
   "execution_count": 281,
   "metadata": {},
   "outputs": [
    {
     "name": "stdout",
     "output_type": "stream",
     "text": [
      "Best leaf_size: 20\n",
      "Best p: 1\n",
      "Best n_neighbors: 28\n"
     ]
    }
   ],
   "source": [
    "#Print The value of best Hyperparameters\n",
    "print('Best leaf_size:', knn_hyp_model.best_estimator_.get_params()['leaf_size'])\n",
    "print('Best p:', knn_hyp_model.best_estimator_.get_params()['p'])\n",
    "print('Best n_neighbors:', knn_hyp_model.best_estimator_.get_params()['n_neighbors'])"
   ]
  },
  {
   "cell_type": "code",
   "execution_count": 288,
   "metadata": {},
   "outputs": [
    {
     "name": "stdout",
     "output_type": "stream",
     "text": [
      "Accuracy of Hypertuned KNN Classification: 0.8367593712212817\n",
      "Hypertuned KNN Classification Confusion Matrix: [[692   4]\n",
      " [131   0]]\n",
      "              precision    recall  f1-score   support\n",
      "\n",
      "           0       0.84      0.99      0.91       696\n",
      "           1       0.00      0.00      0.00       131\n",
      "\n",
      "    accuracy                           0.84       827\n",
      "   macro avg       0.42      0.50      0.46       827\n",
      "weighted avg       0.71      0.84      0.77       827\n",
      "\n"
     ]
    }
   ],
   "source": [
    "knn_hyp = KNeighborsClassifier(n_neighbors=28, leaf_size=20, p=1)\n",
    "knn_model_hyp = knn_hyp.fit(X_train, y_train)\n",
    "knn_predict_hyp = knn_hyp.predict(X_test)\n",
    "knn_cm_hyp = confusion_matrix(y_test, knn_predict_hyp)\n",
    "knn_hyp_accuracy = accuracy_score(y_test, knn_predict_hyp)\n",
    "print(\"Accuracy of Hypertuned KNN Classification:\", knn_hyp_accuracy)\n",
    "print(\"Hypertuned KNN Classification Confusion Matrix:\", knn_cm_hyp)\n",
    "print(classification_report(y_test, knn_predict_hyp))"
   ]
  },
  {
   "cell_type": "markdown",
   "metadata": {},
   "source": [
    "#### Hypertuned Support Vector Machine"
   ]
  },
  {
   "cell_type": "code",
   "execution_count": 284,
   "metadata": {},
   "outputs": [
    {
     "name": "stdout",
     "output_type": "stream",
     "text": [
      "Fitting 5 folds for each of 10 candidates, totalling 50 fits\n"
     ]
    },
    {
     "name": "stderr",
     "output_type": "stream",
     "text": [
      "[Parallel(n_jobs=-1)]: Using backend LokyBackend with 4 concurrent workers.\n",
      "[Parallel(n_jobs=-1)]: Done  42 tasks      | elapsed:   15.0s\n",
      "[Parallel(n_jobs=-1)]: Done  50 out of  50 | elapsed:   15.8s finished\n"
     ]
    },
    {
     "data": {
      "text/plain": [
       "RandomizedSearchCV(cv=None, error_score=nan,\n",
       "                   estimator=SVC(C=1.0, break_ties=False, cache_size=200,\n",
       "                                 class_weight=None, coef0=0.0,\n",
       "                                 decision_function_shape='ovr', degree=3,\n",
       "                                 gamma='scale', kernel='rbf', max_iter=-1,\n",
       "                                 probability=False, random_state=None,\n",
       "                                 shrinking=True, tol=0.001, verbose=False),\n",
       "                   iid='deprecated', n_iter=10, n_jobs=-1,\n",
       "                   param_distributions={'C': [0.1, 1, 10, 100],\n",
       "                                        'gamma': [1, 0.1, 0.01, 0.001, 0.0001],\n",
       "                                        'kernel': ['rbf']},\n",
       "                   pre_dispatch='2*n_jobs', random_state=None, refit=True,\n",
       "                   return_train_score=False, scoring=None, verbose=1)"
      ]
     },
     "execution_count": 284,
     "metadata": {},
     "output_type": "execute_result"
    }
   ],
   "source": [
    "svm_param_grid = {'C': [0.1, 1, 10, 100], \n",
    "                 'gamma': [1, 0.1, 0.01, 0.001, 0.0001],\n",
    "                 'kernel': ['rbf']}\n",
    "\n",
    "svm_hyp_rs = RandomizedSearchCV(SVC(), svm_param_grid, refit=True, verbose=1, n_jobs=-1)\n",
    "\n",
    "svm_hyp_rs.fit(X_train, y_train)"
   ]
  },
  {
   "cell_type": "code",
   "execution_count": 289,
   "metadata": {},
   "outputs": [
    {
     "name": "stdout",
     "output_type": "stream",
     "text": [
      "Accuracy of Hypertuned Support Vector Machine: 0.841596130592503\n",
      "Hypertuned Support Vector Machine: [[696   0]\n",
      " [131   0]]\n",
      "              precision    recall  f1-score   support\n",
      "\n",
      "           0       0.84      1.00      0.91       696\n",
      "           1       0.00      0.00      0.00       131\n",
      "\n",
      "    accuracy                           0.84       827\n",
      "   macro avg       0.42      0.50      0.46       827\n",
      "weighted avg       0.71      0.84      0.77       827\n",
      "\n"
     ]
    },
    {
     "name": "stderr",
     "output_type": "stream",
     "text": [
      "/opt/anaconda3/lib/python3.7/site-packages/sklearn/metrics/_classification.py:1272: UndefinedMetricWarning: Precision and F-score are ill-defined and being set to 0.0 in labels with no predicted samples. Use `zero_division` parameter to control this behavior.\n",
      "  _warn_prf(average, modifier, msg_start, len(result))\n"
     ]
    }
   ],
   "source": [
    "#Comparing the random search random forest model to the base random forest model \n",
    "svm_hyp_model = svm_hyp_rs.best_estimator_\n",
    "svm_hyp_model.fit(X_train, y_train)\n",
    "svm_hyp_predict = svm_hyp_model.predict(X_test)\n",
    "svm_hyp_cm = confusion_matrix(y_test, svm_hyp_predict)\n",
    "svm_hyp_accuracy = accuracy_score(y_test, svm_hyp_predict)\n",
    "print(\"Accuracy of Hypertuned Support Vector Machine:\", svm_hyp_accuracy)\n",
    "print(\"Hypertuned Support Vector Machine:\", svm_hyp_cm)\n",
    "print(classification_report(y_test, svm_hyp_predict))"
   ]
  },
  {
   "cell_type": "markdown",
   "metadata": {},
   "source": [
    "### Model Evaluation "
   ]
  },
  {
   "cell_type": "code",
   "execution_count": 295,
   "metadata": {},
   "outputs": [
    {
     "data": {
      "text/html": [
       "<div>\n",
       "<style scoped>\n",
       "    .dataframe tbody tr th:only-of-type {\n",
       "        vertical-align: middle;\n",
       "    }\n",
       "\n",
       "    .dataframe tbody tr th {\n",
       "        vertical-align: top;\n",
       "    }\n",
       "\n",
       "    .dataframe thead th {\n",
       "        text-align: right;\n",
       "    }\n",
       "</style>\n",
       "<table border=\"1\" class=\"dataframe\">\n",
       "  <thead>\n",
       "    <tr style=\"text-align: right;\">\n",
       "      <th></th>\n",
       "      <th>Model</th>\n",
       "      <th>Accuracy</th>\n",
       "      <th>Confusion Matrix</th>\n",
       "    </tr>\n",
       "  </thead>\n",
       "  <tbody>\n",
       "    <tr>\n",
       "      <th>0</th>\n",
       "      <td>K-Nearest Neighbors</td>\n",
       "      <td>83.071342</td>\n",
       "      <td>[[673, 23], [117, 14]]</td>\n",
       "    </tr>\n",
       "    <tr>\n",
       "      <th>1</th>\n",
       "      <td>Hypertuned K-Nearest Neighbors</td>\n",
       "      <td>83.675937</td>\n",
       "      <td>[[692, 4], [131, 0]]</td>\n",
       "    </tr>\n",
       "    <tr>\n",
       "      <th>2</th>\n",
       "      <td>Support Vector Machine</td>\n",
       "      <td>84.159613</td>\n",
       "      <td>[[695, 1], [130, 1]]</td>\n",
       "    </tr>\n",
       "    <tr>\n",
       "      <th>3</th>\n",
       "      <td>Hypertuned Support Vector Machine</td>\n",
       "      <td>84.159613</td>\n",
       "      <td>[[696, 0], [131, 0]]</td>\n",
       "    </tr>\n",
       "    <tr>\n",
       "      <th>4</th>\n",
       "      <td>Logistic Regression</td>\n",
       "      <td>84.159613</td>\n",
       "      <td>[[693, 3], [128, 3]]</td>\n",
       "    </tr>\n",
       "    <tr>\n",
       "      <th>5</th>\n",
       "      <td>Random Forest</td>\n",
       "      <td>84.159613</td>\n",
       "      <td>[[688, 8], [123, 8]]</td>\n",
       "    </tr>\n",
       "    <tr>\n",
       "      <th>6</th>\n",
       "      <td>Hypertuned Random Forest</td>\n",
       "      <td>84.401451</td>\n",
       "      <td>[[695, 1], [128, 3]]</td>\n",
       "    </tr>\n",
       "  </tbody>\n",
       "</table>\n",
       "</div>"
      ],
      "text/plain": [
       "                               Model   Accuracy        Confusion Matrix\n",
       "0                K-Nearest Neighbors  83.071342  [[673, 23], [117, 14]]\n",
       "1     Hypertuned K-Nearest Neighbors  83.675937    [[692, 4], [131, 0]]\n",
       "2             Support Vector Machine  84.159613    [[695, 1], [130, 1]]\n",
       "3  Hypertuned Support Vector Machine  84.159613    [[696, 0], [131, 0]]\n",
       "4                Logistic Regression  84.159613    [[693, 3], [128, 3]]\n",
       "5                      Random Forest  84.159613    [[688, 8], [123, 8]]\n",
       "6           Hypertuned Random Forest  84.401451    [[695, 1], [128, 3]]"
      ]
     },
     "execution_count": 295,
     "metadata": {},
     "output_type": "execute_result"
    }
   ],
   "source": [
    "model_ev = pd.DataFrame({'Model': ['K-Nearest Neighbors', 'Hypertuned K-Nearest Neighbors', 'Support Vector Machine', 'Hypertuned Support Vector Machine', 'Logistic Regression', 'Random Forest', 'Hypertuned Random Forest'],\n",
    "                              'Accuracy': [knn_accuracy*100, knn_hyp_accuracy*100, svm_accuracy*100, svm_hyp_accuracy*100, lr_accuracy*100, rf_accuracy*100, rf_hyp_accuracy*100],\n",
    "                             'Confusion Matrix': [knn_cm, knn_cm_hyp, svm_cm, svm_hyp_cm, lr_cm, rf_cm, rf_hyp_cm]})\n",
    "\n",
    "model_ev"
   ]
  },
  {
   "cell_type": "markdown",
   "metadata": {},
   "source": [
    "We're looking for a high accuracy and low number of false negatives - a low number of FN is important for us here, this metric indicates that an individual will not develop heart disease when in actuality they will. We don't want to tell study participants that they're clear of heart disease for them to come back a couple years later with advanced heart disease.\n",
    "\n",
    "Although all of the models generated similar results in terms of overall accuracy and number of false negatives, I would consider the hypertuned random forest model to have represented our dataset and outcome the best. We can be 84% sure that the model is predicting the outcome correctly. The comparatively low number of false negatives adds to our confidence. \n"
   ]
  },
  {
   "cell_type": "markdown",
   "metadata": {},
   "source": [
    "**Thank you for reading!**"
   ]
  },
  {
   "cell_type": "code",
   "execution_count": null,
   "metadata": {},
   "outputs": [],
   "source": []
  }
 ],
 "metadata": {
  "kernelspec": {
   "display_name": "Python 3",
   "language": "python",
   "name": "python3"
  },
  "language_info": {
   "codemirror_mode": {
    "name": "ipython",
    "version": 3
   },
   "file_extension": ".py",
   "mimetype": "text/x-python",
   "name": "python",
   "nbconvert_exporter": "python",
   "pygments_lexer": "ipython3",
   "version": "3.7.6"
  }
 },
 "nbformat": 4,
 "nbformat_minor": 4
}
